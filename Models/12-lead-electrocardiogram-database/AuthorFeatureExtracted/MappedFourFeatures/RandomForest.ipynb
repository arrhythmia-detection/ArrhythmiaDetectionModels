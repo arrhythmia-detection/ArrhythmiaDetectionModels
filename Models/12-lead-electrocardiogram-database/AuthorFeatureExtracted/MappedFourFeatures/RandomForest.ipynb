{
 "cells": [
  {
   "cell_type": "code",
   "id": "initial_id",
   "metadata": {
    "collapsed": true,
    "ExecuteTime": {
     "end_time": "2024-11-08T16:56:22.069314Z",
     "start_time": "2024-11-08T16:56:20.566056Z"
    }
   },
   "source": [
    "from sklearn.metrics import classification_report\n",
    "from sklearn.model_selection import train_test_split\n",
    "import pandas as pd\n",
    "import numpy as np\n",
    "\n",
    "# Load the Diagnostics.xlsx data\n",
    "diagnostics_file = \"../../../../Datasets/12-lead electrocardiogram database/Diagnostics.xlsx\"\n",
    "diagnostics_df = pd.read_excel(diagnostics_file)\n",
    "\n",
    "# Rename \"SA\" to \"SI\" in the \"Rhythm\" column\n",
    "diagnostics_df[\"Rhythm\"] = diagnostics_df[\"Rhythm\"].replace(\"SA\", \"SI\")\n",
    "\n",
    "# Drop rows with any missing values\n",
    "diagnostics_df = diagnostics_df.dropna()\n",
    "\n",
    "# Encode \"Gender\" column: 0 for \"MALE\" and 1 for \"FEMALE\"\n",
    "diagnostics_df[\"Gender\"] = diagnostics_df[\"Gender\"].map({\"MALE\": 0, \"FEMALE\": 1})\n",
    "\n",
    "# Merge specified labels\n",
    "merge_mapping = {\n",
    "    \"AF\": \"AFIB\", \"AFIB\": \"AFIB\",\n",
    "    \"SVT\": \"GSVT\", \"AT\": \"GSVT\", \"SAAWR\": \"GSVT\", \"ST\": \"GSVT\", \"AVNRT\": \"GSVT\", \"AVRT\": \"GSVT\",\n",
    "    \"SB\": \"SB\",\n",
    "    \"SR\": \"SR\", \"SI\": \"SR\"\n",
    "}\n",
    "diagnostics_df[\"Rhythm\"] = diagnostics_df[\"Rhythm\"].map(merge_mapping)\n",
    "\n",
    "# Separate features and labels\n",
    "features = diagnostics_df.drop(columns=[\"FileName\", \"Rhythm\", \"Beat\"]).values\n",
    "labels = diagnostics_df[\"Rhythm\"].values  # Using \"Rhythm\" as the target variable\n",
    "\n",
    "# Convert features to float32\n",
    "features = features.astype(\"float32\")\n",
    "\n",
    "# Encode labels as one-hot with merged classes\n",
    "unique_labels = np.unique(labels)\n",
    "label_map = {label: index for index, label in enumerate(unique_labels)}\n",
    "labels_encoded = np.array([label_map[label] for label in labels])\n",
    "\n",
    "# Train-test split\n",
    "X_train, X_test, y_train, y_test = train_test_split(features, labels_encoded, test_size=0.2, random_state=42)\n",
    "\n"
   ],
   "outputs": [],
   "execution_count": 1
  },
  {
   "metadata": {
    "ExecuteTime": {
     "end_time": "2024-11-08T16:56:22.302016Z",
     "start_time": "2024-11-08T16:56:22.075158Z"
    }
   },
   "cell_type": "code",
   "source": [
    "from sklearn.ensemble import RandomForestClassifier\n",
    "\n",
    "# Initialize the Decision Tree Classifier\n",
    "rf = RandomForestClassifier(random_state=42, n_estimators=4)\n",
    "\n",
    "# Train the model\n",
    "rf.fit(X_train, y_train)\n",
    "\n",
    "# Predict on test data\n",
    "y_pred = rf.predict(X_test)\n",
    "\n",
    "# Map back to original labels for a readable report\n",
    "label_names = [label for label, index in sorted(label_map.items(), key=lambda item: item[1])]\n",
    "\n",
    "# Evaluate and print classification report\n",
    "print(\"\\nClassification Report (Decision Tree):\\n\")\n",
    "print(classification_report(y_test, y_pred, target_names=label_names, digits=5))"
   ],
   "id": "61a4ead506f4fd5e",
   "outputs": [
    {
     "name": "stdout",
     "output_type": "stream",
     "text": [
      "\n",
      "Classification Report (Decision Tree):\n",
      "\n",
      "              precision    recall  f1-score   support\n",
      "\n",
      "        AFIB    0.67012   0.76179   0.71302       424\n",
      "        GSVT    0.85941   0.78631   0.82124       482\n",
      "          SB    0.97318   0.98069   0.97692       777\n",
      "          SR    0.90802   0.86130   0.88404       447\n",
      "\n",
      "    accuracy                        0.86808      2130\n",
      "   macro avg    0.85268   0.84752   0.84881      2130\n",
      "weighted avg    0.87343   0.86808   0.86967      2130\n",
      "\n"
     ]
    }
   ],
   "execution_count": 2
  },
  {
   "metadata": {
    "ExecuteTime": {
     "end_time": "2024-11-08T16:51:36.290401Z",
     "start_time": "2024-11-08T16:51:36.287539Z"
    }
   },
   "cell_type": "code",
   "source": [
    "print(rf.get_depth())\n",
    "print(rf.get_n_leaves())"
   ],
   "id": "a94d4057c2fb42da",
   "outputs": [
    {
     "name": "stdout",
     "output_type": "stream",
     "text": [
      "24\n",
      "689\n"
     ]
    }
   ],
   "execution_count": 3
  },
  {
   "metadata": {
    "ExecuteTime": {
     "end_time": "2024-11-08T16:56:44.856977Z",
     "start_time": "2024-11-08T16:56:44.656780Z"
    }
   },
   "cell_type": "code",
   "source": [
    "# Initialize the Decision Tree Classifier\n",
    "rf = RandomForestClassifier(random_state=42, n_estimators=20)\n",
    "\n",
    "# Train the model\n",
    "rf.fit(X_train, y_train)\n",
    "\n",
    "# Predict on test data\n",
    "y_pred = rf.predict(X_test)\n",
    "\n",
    "# Map back to original labels for a readable report\n",
    "label_names = [label for label, index in sorted(label_map.items(), key=lambda item: item[1])]\n",
    "\n",
    "# Evaluate and print classification report\n",
    "print(\"\\nClassification Report (Decision Tree):\\n\")\n",
    "print(classification_report(y_test, y_pred, target_names=label_names, digits=5))"
   ],
   "id": "90bb95e60d1c957a",
   "outputs": [
    {
     "name": "stdout",
     "output_type": "stream",
     "text": [
      "\n",
      "Classification Report (Decision Tree):\n",
      "\n",
      "              precision    recall  f1-score   support\n",
      "\n",
      "        AFIB    0.76271   0.74292   0.75269       424\n",
      "        GSVT    0.85921   0.86100   0.86010       482\n",
      "          SB    0.97592   0.99099   0.98340       777\n",
      "          SR    0.91011   0.90604   0.90807       447\n",
      "\n",
      "    accuracy                        0.89437      2130\n",
      "   macro avg    0.87699   0.87524   0.87607      2130\n",
      "weighted avg    0.89326   0.89437   0.89376      2130\n",
      "\n"
     ]
    }
   ],
   "execution_count": 3
  },
  {
   "metadata": {
    "ExecuteTime": {
     "end_time": "2024-11-08T16:57:04.694116Z",
     "start_time": "2024-11-08T16:57:04.418299Z"
    }
   },
   "cell_type": "code",
   "source": [
    "# Initialize the Decision Tree Classifier\n",
    "rf = RandomForestClassifier(random_state=42, n_estimators=30)\n",
    "\n",
    "# Train the model\n",
    "rf.fit(X_train, y_train)\n",
    "\n",
    "# Predict on test data\n",
    "y_pred = rf.predict(X_test)\n",
    "\n",
    "# Map back to original labels for a readable report\n",
    "label_names = [label for label, index in sorted(label_map.items(), key=lambda item: item[1])]\n",
    "\n",
    "# Evaluate and print classification report\n",
    "print(\"\\nClassification Report (Decision Tree):\\n\")\n",
    "print(classification_report(y_test, y_pred, target_names=label_names, digits=5))"
   ],
   "id": "c790f4d7cc8c4e83",
   "outputs": [
    {
     "name": "stdout",
     "output_type": "stream",
     "text": [
      "\n",
      "Classification Report (Decision Tree):\n",
      "\n",
      "              precision    recall  f1-score   support\n",
      "\n",
      "        AFIB    0.77396   0.74292   0.75812       424\n",
      "        GSVT    0.85336   0.86929   0.86125       482\n",
      "          SB    0.97716   0.99099   0.98403       777\n",
      "          SR    0.91667   0.91051   0.91358       447\n",
      "\n",
      "    accuracy                        0.89718      2130\n",
      "   macro avg    0.88029   0.87843   0.87925      2130\n",
      "weighted avg    0.89600   0.89718   0.89649      2130\n",
      "\n"
     ]
    }
   ],
   "execution_count": 4
  },
  {
   "metadata": {
    "ExecuteTime": {
     "end_time": "2024-11-08T16:57:14.028059Z",
     "start_time": "2024-11-08T16:57:13.556501Z"
    }
   },
   "cell_type": "code",
   "source": [
    "# Initialize the Decision Tree Classifier\n",
    "rf = RandomForestClassifier(random_state=42, n_estimators=50)\n",
    "\n",
    "# Train the model\n",
    "rf.fit(X_train, y_train)\n",
    "\n",
    "# Predict on test data\n",
    "y_pred = rf.predict(X_test)\n",
    "\n",
    "# Map back to original labels for a readable report\n",
    "label_names = [label for label, index in sorted(label_map.items(), key=lambda item: item[1])]\n",
    "\n",
    "# Evaluate and print classification report\n",
    "print(\"\\nClassification Report (Decision Tree):\\n\")\n",
    "print(classification_report(y_test, y_pred, target_names=label_names, digits=5))"
   ],
   "id": "e40f8dab27a9c044",
   "outputs": [
    {
     "name": "stdout",
     "output_type": "stream",
     "text": [
      "\n",
      "Classification Report (Decision Tree):\n",
      "\n",
      "              precision    recall  f1-score   support\n",
      "\n",
      "        AFIB    0.79798   0.74528   0.77073       424\n",
      "        GSVT    0.86061   0.88382   0.87206       482\n",
      "          SB    0.97716   0.99099   0.98403       777\n",
      "          SR    0.91353   0.92170   0.91759       447\n",
      "\n",
      "    accuracy                        0.90329      2130\n",
      "   macro avg    0.88732   0.88545   0.88610      2130\n",
      "weighted avg    0.90176   0.90329   0.90229      2130\n",
      "\n"
     ]
    }
   ],
   "execution_count": 5
  },
  {
   "metadata": {
    "ExecuteTime": {
     "end_time": "2024-11-08T16:57:23.519189Z",
     "start_time": "2024-11-08T16:57:22.635416Z"
    }
   },
   "cell_type": "code",
   "source": [
    "# Initialize the Decision Tree Classifier\n",
    "rf = RandomForestClassifier(random_state=42, n_estimators=100)\n",
    "\n",
    "# Train the model\n",
    "rf.fit(X_train, y_train)\n",
    "\n",
    "# Predict on test data\n",
    "y_pred = rf.predict(X_test)\n",
    "\n",
    "# Map back to original labels for a readable report\n",
    "label_names = [label for label, index in sorted(label_map.items(), key=lambda item: item[1])]\n",
    "\n",
    "# Evaluate and print classification report\n",
    "print(\"\\nClassification Report (Decision Tree):\\n\")\n",
    "print(classification_report(y_test, y_pred, target_names=label_names, digits=5))"
   ],
   "id": "55eecdc0c847d921",
   "outputs": [
    {
     "name": "stdout",
     "output_type": "stream",
     "text": [
      "\n",
      "Classification Report (Decision Tree):\n",
      "\n",
      "              precision    recall  f1-score   support\n",
      "\n",
      "        AFIB    0.80362   0.73349   0.76695       424\n",
      "        GSVT    0.85200   0.88382   0.86762       482\n",
      "          SB    0.97716   0.99099   0.98403       777\n",
      "          SR    0.91429   0.93065   0.92239       447\n",
      "\n",
      "    accuracy                        0.90282      2130\n",
      "   macro avg    0.88677   0.88474   0.88525      2130\n",
      "weighted avg    0.90110   0.90282   0.90154      2130\n",
      "\n"
     ]
    }
   ],
   "execution_count": 6
  },
  {
   "metadata": {},
   "cell_type": "code",
   "outputs": [],
   "execution_count": null,
   "source": "",
   "id": "648be6312121190e"
  }
 ],
 "metadata": {
  "kernelspec": {
   "display_name": "Python 3",
   "language": "python",
   "name": "python3"
  },
  "language_info": {
   "codemirror_mode": {
    "name": "ipython",
    "version": 2
   },
   "file_extension": ".py",
   "mimetype": "text/x-python",
   "name": "python",
   "nbconvert_exporter": "python",
   "pygments_lexer": "ipython2",
   "version": "2.7.6"
  }
 },
 "nbformat": 4,
 "nbformat_minor": 5
}
