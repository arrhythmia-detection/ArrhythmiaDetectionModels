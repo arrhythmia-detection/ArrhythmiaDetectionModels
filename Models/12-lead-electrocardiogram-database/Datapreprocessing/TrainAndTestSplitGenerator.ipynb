{
 "cells": [
  {
   "cell_type": "code",
   "id": "initial_id",
   "metadata": {
    "collapsed": true,
    "ExecuteTime": {
     "end_time": "2024-11-08T09:55:44.305557Z",
     "start_time": "2024-11-08T09:55:42.872390Z"
    }
   },
   "source": [
    "import os\n",
    "import numpy as np\n",
    "import pandas as pd\n",
    "from sklearn.model_selection import train_test_split\n",
    "from sklearn.preprocessing import StandardScaler\n",
    "\n",
    "# Defining file path\n",
    "ecg_folder = \"../../../Datasets/12-lead electrocardiogram database/ECGDataDenoised\"\n",
    "attributes_file = \"../../../Datasets/12-lead electrocardiogram database/AttributesDictionary.xlsx\"\n",
    "diagnostics_file = \"../../../Datasets/12-lead electrocardiogram database/Diagnostics.xlsx\"\n",
    "rhythm_names_file = \"../../../Datasets/12-lead electrocardiogram database/RhythmNames.xlsx\"\n",
    "\n",
    "# Checking for missing files and stuff\n",
    "for file_path in [attributes_file, diagnostics_file, rhythm_names_file]:\n",
    "    if not os.path.exists(file_path):\n",
    "        raise FileNotFoundError(f\"Required file not found: {file_path}\")\n",
    "\n",
    "# Loading metadata\n",
    "attributes_df = pd.read_excel(attributes_file)\n",
    "diagnostics_df = pd.read_excel(diagnostics_file)\n",
    "rhythm_names_df = pd.read_excel(rhythm_names_file)\n",
    "\n",
    "# Removing trailing spaces in acronym columns for accurate matching\n",
    "rhythm_names_df['Acronym Name'] = rhythm_names_df['Acronym Name'].str.strip()\n",
    "\n",
    "# Creating sets of valid acronyms for rhythm\n",
    "valid_rhythms = set(rhythm_names_df['Acronym Name'])\n",
    "print(valid_rhythms)"
   ],
   "outputs": [
    {
     "name": "stdout",
     "output_type": "stream",
     "text": [
      "{'AVNRT', 'AF', 'AT', 'SVT', 'SR', 'SI', 'SB', 'AFIB', 'SAAWR', 'AVRT', 'ST'}\n"
     ]
    }
   ],
   "execution_count": 1
  },
  {
   "metadata": {
    "ExecuteTime": {
     "end_time": "2024-11-08T09:56:44.428250Z",
     "start_time": "2024-11-08T09:55:46.660955Z"
    }
   },
   "cell_type": "code",
   "source": [
    "# Load ECG data\n",
    "def load_ecg_data(ecg_folder, diagnostics_df):\n",
    "    data = []\n",
    "    labels = []\n",
    "    metadata = []\n",
    "\n",
    "    # Check if the folder exists\n",
    "    if not os.path.exists(ecg_folder):\n",
    "        raise FileNotFoundError(f\"ECG data folder not found: {ecg_folder}\")\n",
    "\n",
    "    for file_name in os.listdir(ecg_folder):\n",
    "        if file_name.endswith('.csv'):\n",
    "            # Read ECG data\n",
    "            ecg_data = pd.read_csv(os.path.join(ecg_folder, file_name), header=None)\n",
    "            ecg_data = ecg_data.to_numpy()  # Convert to numpy array\n",
    "\n",
    "            # Retrieve associated label and metadata\n",
    "            record_id = file_name.replace('.csv', '')\n",
    "            record_info = diagnostics_df[diagnostics_df['FileName'] == record_id]\n",
    "\n",
    "            # Skip if no label information is available\n",
    "            if record_info.empty:\n",
    "                raise ValueError(f\"No diagnostic information found for file: {file_name}\")\n",
    "\n",
    "            # Get rhythm and condition acronyms directly\n",
    "            rhythm_acronym = record_info['Rhythm'].values[0].strip()\n",
    "\n",
    "            # The author of the dataset seems like did an oopsie\n",
    "            if rhythm_acronym == \"SA\":\n",
    "                rhythm_acronym = \"SI\"\n",
    "                \n",
    "            # Validate rhythm and condition acronyms\n",
    "            if rhythm_acronym not in valid_rhythms:\n",
    "                raise ValueError(f\"Unknown rhythm acronym '{rhythm_acronym}' found in file: {file_name}\")\n",
    "\n",
    "            # Set label as rhythm acronym (or use condition acronym if preferred)\n",
    "            label = rhythm_acronym  # Use rhythm acronym as label\n",
    "\n",
    "            # Additional metadata\n",
    "            patient_age = record_info[\"PatientAge\"].values[0]\n",
    "            ventricular_rate = record_info[\"VentricularRate\"].values[0]\n",
    "            atrial_rate = record_info[\"AtrialRate\"].values[0]\n",
    "\n",
    "            data.append(ecg_data)\n",
    "            labels.append(label)\n",
    "            metadata.append({\n",
    "                \"patient_age\": patient_age,\n",
    "                \"ventricular_rate\": ventricular_rate,\n",
    "                \"atrial_rate\": atrial_rate\n",
    "            })\n",
    "\n",
    "    return data, np.array(labels), metadata\n",
    "\n",
    "\n",
    "# Load ECG data and labels\n",
    "ecg_data, ecg_labels, ecg_metadata = load_ecg_data(ecg_folder, diagnostics_df)\n",
    "\n",
    "# Standardize each ECG signal individually\n",
    "scaler = StandardScaler()\n",
    "ecg_data = [scaler.fit_transform(sample) for sample in ecg_data]\n",
    "\n",
    "# Define a fixed sequence length (pad or truncate to this length)\n",
    "sequence_length = 5000  # Adjust as per dataset requirements\n",
    "\n",
    "\n",
    "# Function to pad or truncate each ECG signal to a fixed length\n",
    "def preprocess_sequence(data, length):\n",
    "    processed_data = []\n",
    "    for sample in data:\n",
    "        if sample.shape[0] > length:\n",
    "            processed_data.append(sample[:length])\n",
    "        else:\n",
    "            pad_width = length - sample.shape[0]\n",
    "            processed_data.append(np.pad(sample, ((0, pad_width), (0, 0)), mode=\"constant\"))\n",
    "    return np.array(processed_data)\n",
    "\n",
    "\n",
    "# initiating\n",
    "ecg_data = preprocess_sequence(ecg_data, sequence_length)"
   ],
   "id": "785f69cc844858cc",
   "outputs": [],
   "execution_count": 2
  },
  {
   "metadata": {
    "ExecuteTime": {
     "end_time": "2024-11-08T09:57:48.982828Z",
     "start_time": "2024-11-08T09:57:44.461730Z"
    }
   },
   "cell_type": "code",
   "source": [
    "from collections import Counter\n",
    "\n",
    "# Filter out classes with fewer than 2 instances\n",
    "label_counts = Counter(ecg_labels)\n",
    "print(label_counts)\n",
    "filtered_indices = [i for i, label in enumerate(ecg_labels) if label_counts[label] > 1]\n",
    "filtered_ecg_data = ecg_data[filtered_indices]\n",
    "filtered_ecg_labels = ecg_labels[filtered_indices]\n",
    "\n",
    "# Train-test split with filtered data\n",
    "X_train, X_test, y_train, y_test = train_test_split(filtered_ecg_data, filtered_ecg_labels, test_size=0.2,\n",
    "                                                    random_state=42, stratify=filtered_ecg_labels)\n",
    "\n",
    "# Verify shapes and data summary\n",
    "print(\"Training data shape:\", X_train.shape)\n",
    "print(\"Testing data shape:\", X_test.shape)\n",
    "print(\"Training labels shape:\", y_train.shape)\n",
    "print(\"Testing labels shape:\", y_test.shape)\n",
    "print(\"Metadata example:\", ecg_metadata[0])"
   ],
   "id": "e18d5f576a208cc7",
   "outputs": [
    {
     "name": "stdout",
     "output_type": "stream",
     "text": [
      "Counter({'SB': 3889, 'SR': 1826, 'AFIB': 1780, 'ST': 1568, 'SVT': 587, 'AF': 445, 'SI': 399, 'AT': 121, 'AVNRT': 16, 'AVRT': 8, 'SAAWR': 7})\n",
      "Training data shape: (8516, 5000, 12)\n",
      "Testing data shape: (2130, 5000, 12)\n",
      "Training labels shape: (8516,)\n",
      "Testing labels shape: (2130,)\n",
      "Metadata example: {'patient_age': 82, 'ventricular_rate': 143, 'atrial_rate': 144}\n"
     ]
    }
   ],
   "execution_count": 4
  },
  {
   "metadata": {
    "ExecuteTime": {
     "end_time": "2024-11-08T10:03:03.402342Z",
     "start_time": "2024-11-08T10:03:03.390080Z"
    }
   },
   "cell_type": "code",
   "source": "X_train",
   "id": "ba2df6f8deb87b2",
   "outputs": [
    {
     "data": {
      "text/plain": [
       "array([[[-1.19834224, -1.58384304, -0.37023501, ..., -0.80524247,\n",
       "         -0.77701309, -0.96014917],\n",
       "        [-0.9744344 , -1.4363066 , -0.46541014, ..., -0.77506742,\n",
       "         -0.75135008, -0.92402534],\n",
       "        [-0.77719196, -1.28160379, -0.52247645, ..., -0.7455109 ,\n",
       "         -0.72733714, -0.88961118],\n",
       "        ...,\n",
       "        [ 0.07976439,  0.25268815,  0.22958151, ...,  0.05945142,\n",
       "         -0.05137077,  0.05352415],\n",
       "        [ 0.432521  ,  0.43992082,  0.02639328, ...,  0.08508032,\n",
       "         -0.04433624,  0.09182093],\n",
       "        [ 0.80992444,  0.66420089, -0.16536231, ...,  0.11480031,\n",
       "         -0.03701946,  0.13601885]],\n",
       "\n",
       "       [[-0.46075294, -0.4575776 , -0.01879292, ..., -0.27069364,\n",
       "         -0.25128915, -0.27899669],\n",
       "        [-0.4973392 , -0.35601608,  0.17672614, ..., -0.2476225 ,\n",
       "         -0.20753578, -0.19351574],\n",
       "        [-0.52019522, -0.28206487,  0.31349408, ..., -0.22921116,\n",
       "         -0.17284226, -0.12926609],\n",
       "        ...,\n",
       "        [ 1.05736149,  0.12538666, -0.66076744, ...,  0.90717303,\n",
       "          0.90650873,  0.515969  ],\n",
       "        [ 1.16487475,  0.124709  , -0.812785  , ...,  0.91303963,\n",
       "          0.90608042,  0.51924194],\n",
       "        [ 1.29892609,  0.13342293, -0.9907158 , ...,  0.9181917 ,\n",
       "          0.90357171,  0.5221141 ]],\n",
       "\n",
       "       [[-0.29312862,  0.84480275,  1.33628432, ...,  0.32874251,\n",
       "          0.06922718,  0.43384414],\n",
       "        [-0.00551251,  1.19855955,  1.45555775, ...,  0.55677344,\n",
       "          0.29976297,  0.7014854 ],\n",
       "        [ 0.25083864,  1.54353104,  1.60058652, ...,  0.78758285,\n",
       "          0.54130625,  0.98406319],\n",
       "        ...,\n",
       "        [-0.16006556,  0.2063841 ,  0.35980081, ...,  0.19647053,\n",
       "          0.10769375,  0.10850505],\n",
       "        [-0.165724  ,  0.23705718,  0.40585495, ...,  0.18793867,\n",
       "          0.113493  ,  0.07955153],\n",
       "        [-0.16662584,  0.26070604,  0.43717124, ...,  0.17758256,\n",
       "          0.11754416,  0.0446088 ]],\n",
       "\n",
       "       ...,\n",
       "\n",
       "       [[-0.39458243,  0.19114046,  2.18828664, ..., -0.22214228,\n",
       "         -0.15597554, -0.25126811],\n",
       "        [-0.39085576,  0.18832801,  2.16670422, ..., -0.22342485,\n",
       "         -0.16281149, -0.24903871],\n",
       "        [-0.38646002,  0.17555339,  2.11133359, ..., -0.22967794,\n",
       "         -0.17359961, -0.25288177],\n",
       "        ...,\n",
       "        [-0.37154227, -0.3969214 , -0.1406641 , ..., -0.3898506 ,\n",
       "         -0.36610381, -0.38931144],\n",
       "        [-0.39811151, -0.45744157, -0.24900732, ..., -0.41295018,\n",
       "         -0.36705971, -0.40237306],\n",
       "        [-0.42897964, -0.52987144, -0.38161122, ..., -0.43869257,\n",
       "         -0.36797211, -0.41756589]],\n",
       "\n",
       "       [[-0.4664713 , -0.1567833 ,  0.84860931, ..., -0.24242071,\n",
       "         -0.10457592, -0.37846605],\n",
       "        [-0.46359158, -0.17116646,  0.79276284, ..., -0.23824941,\n",
       "         -0.09877147, -0.36837224],\n",
       "        [-0.46006972, -0.18732312,  0.72899143, ..., -0.22853578,\n",
       "         -0.08951781, -0.35281033],\n",
       "        ...,\n",
       "        [-0.37665594, -0.3524165 , -0.08181524, ..., -0.37130698,\n",
       "         -0.37093659, -0.33295612],\n",
       "        [-0.3984948 , -0.38475255, -0.1251964 , ..., -0.37028206,\n",
       "         -0.37254708, -0.34350268],\n",
       "        [-0.42277239, -0.41786437, -0.16382259, ..., -0.36870902,\n",
       "         -0.37474874, -0.35714166]],\n",
       "\n",
       "       [[-0.09549192, -0.28103308, -0.87457479, ..., -0.0234684 ,\n",
       "         -0.0524288 , -0.11285831],\n",
       "        [-0.01112211, -0.2434713 , -0.90988691, ..., -0.01885768,\n",
       "         -0.0471777 , -0.08720235],\n",
       "        [ 0.05093388, -0.21391349, -0.93020221, ..., -0.01514755,\n",
       "         -0.04349058, -0.06551866],\n",
       "        ...,\n",
       "        [-0.50048274, -0.31991014, -0.26666666, ..., -0.41089994,\n",
       "         -0.48737007, -0.38917011],\n",
       "        [-0.54911112, -0.32811996, -0.21454572, ..., -0.40752079,\n",
       "         -0.48937091, -0.39013836],\n",
       "        [-0.60736296, -0.34826299, -0.17724535, ..., -0.41910918,\n",
       "         -0.50379177, -0.40407113]]])"
      ]
     },
     "execution_count": 6,
     "metadata": {},
     "output_type": "execute_result"
    }
   ],
   "execution_count": 6
  },
  {
   "metadata": {
    "ExecuteTime": {
     "end_time": "2024-11-08T10:56:57.398345Z",
     "start_time": "2024-11-08T10:56:57.394465Z"
    }
   },
   "cell_type": "code",
   "source": "y_train",
   "id": "ab34f3d0881051ab",
   "outputs": [
    {
     "data": {
      "text/plain": [
       "array(['SR', 'SB', 'SR', ..., 'SB', 'SB', 'AFIB'], dtype='<U5')"
      ]
     },
     "execution_count": 7,
     "metadata": {},
     "output_type": "execute_result"
    }
   ],
   "execution_count": 7
  },
  {
   "metadata": {
    "ExecuteTime": {
     "end_time": "2024-11-08T11:07:46.465331Z",
     "start_time": "2024-11-08T11:04:06.979182Z"
    }
   },
   "cell_type": "code",
   "source": [
    "import os\n",
    "\n",
    "# Directory to save the train-test split data\n",
    "output_dir = \"../../../Datasets/12-lead electrocardiogram database/FirstRevFull5000Sample\"\n",
    "\n",
    "# Creating directory if it doesn't exist already\n",
    "if not os.path.exists(output_dir):\n",
    "    os.makedirs(output_dir)\n",
    "\n",
    "# function to save the stuff\n",
    "def save_split(data, labels, split_name):\n",
    "    data_file = os.path.join(output_dir, f\"{split_name}_data.txt\")\n",
    "    labels_file = os.path.join(output_dir, f\"{split_name}_labels.txt\")\n",
    "\n",
    "    # Saving the data\n",
    "    with open(data_file, \"w\") as f_data:\n",
    "        for sample in data:\n",
    "            # Convert each sample to a space-separated string and write to file\n",
    "            sample_str = \" \".join(map(str, sample.flatten()))\n",
    "            f_data.write(sample_str + \"\\n\")\n",
    "\n",
    "    # Save labels\n",
    "    with open(labels_file, \"w\") as f_labels:\n",
    "        for label in labels:\n",
    "            f_labels.write(str(label) + \"\\n\")\n",
    "\n",
    "# Initialing the process\n",
    "save_split(X_train, y_train, \"train\")\n",
    "save_split(X_test, y_test, \"test\")\n",
    "\n",
    "print(f\"Train and test data have been saved to the '{output_dir}' directory.\")"
   ],
   "id": "6eadd63129db7ed0",
   "outputs": [
    {
     "name": "stdout",
     "output_type": "stream",
     "text": [
      "Train and test data have been saved to the '../../../Datasets/12-lead electrocardiogram database/FirstRevFull5000Sample' directory.\n"
     ]
    }
   ],
   "execution_count": 8
  },
  {
   "metadata": {},
   "cell_type": "code",
   "outputs": [],
   "execution_count": null,
   "source": "",
   "id": "572f7eb21b41b4"
  }
 ],
 "metadata": {
  "kernelspec": {
   "display_name": "Python 3",
   "language": "python",
   "name": "python3"
  },
  "language_info": {
   "codemirror_mode": {
    "name": "ipython",
    "version": 2
   },
   "file_extension": ".py",
   "mimetype": "text/x-python",
   "name": "python",
   "nbconvert_exporter": "python",
   "pygments_lexer": "ipython2",
   "version": "2.7.6"
  }
 },
 "nbformat": 4,
 "nbformat_minor": 5
}
