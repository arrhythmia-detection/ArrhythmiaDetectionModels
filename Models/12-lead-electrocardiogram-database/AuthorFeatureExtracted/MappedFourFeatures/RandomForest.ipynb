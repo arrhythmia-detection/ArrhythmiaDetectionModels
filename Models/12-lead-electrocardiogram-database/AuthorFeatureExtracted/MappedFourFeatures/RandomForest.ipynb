{
 "cells": [
  {
   "cell_type": "code",
   "id": "initial_id",
   "metadata": {
    "collapsed": true,
    "ExecuteTime": {
     "end_time": "2025-01-07T16:28:47.194516Z",
     "start_time": "2025-01-07T16:28:45.715188Z"
    }
   },
   "source": [
    "from sklearn.metrics import classification_report\n",
    "from sklearn.model_selection import train_test_split\n",
    "import pandas as pd\n",
    "import numpy as np\n",
    "\n",
    "# Load the Diagnostics.xlsx data\n",
    "diagnostics_file = \"../../../../Datasets/12-lead electrocardiogram database/Diagnostics.xlsx\"\n",
    "diagnostics_df = pd.read_excel(diagnostics_file)\n",
    "\n",
    "# Rename \"SA\" to \"SI\" in the \"Rhythm\" column\n",
    "diagnostics_df[\"Rhythm\"] = diagnostics_df[\"Rhythm\"].replace(\"SA\", \"SI\")\n",
    "\n",
    "# Drop rows with any missing values\n",
    "diagnostics_df = diagnostics_df.dropna()\n",
    "\n",
    "# Encode \"Gender\" column: 0 for \"MALE\" and 1 for \"FEMALE\"\n",
    "diagnostics_df[\"Gender\"] = diagnostics_df[\"Gender\"].map({\"MALE\": 0, \"FEMALE\": 1})\n",
    "\n",
    "# Merge specified labels\n",
    "merge_mapping = {\n",
    "    \"AF\": \"AFIB\", \"AFIB\": \"AFIB\",\n",
    "    \"SVT\": \"GSVT\", \"AT\": \"GSVT\", \"SAAWR\": \"GSVT\", \"ST\": \"GSVT\", \"AVNRT\": \"GSVT\", \"AVRT\": \"GSVT\",\n",
    "    \"SB\": \"SB\",\n",
    "    \"SR\": \"SR\", \"SI\": \"SR\"\n",
    "}\n",
    "diagnostics_df[\"Rhythm\"] = diagnostics_df[\"Rhythm\"].map(merge_mapping)\n",
    "\n",
    "# Separate features and labels\n",
    "features = diagnostics_df.drop(columns=[\"FileName\", \"Rhythm\", \"Beat\"]).values\n",
    "labels = diagnostics_df[\"Rhythm\"].values  # Using \"Rhythm\" as the target variable\n",
    "\n",
    "# Convert features to float32\n",
    "features = features.astype(\"float32\")\n",
    "\n",
    "# Encode labels as one-hot with merged classes\n",
    "unique_labels = np.unique(labels)\n",
    "label_map = {label: index for index, label in enumerate(unique_labels)}\n",
    "labels_encoded = np.array([label_map[label] for label in labels])\n",
    "\n",
    "# Train-test split\n",
    "X_train, X_test, y_train, y_test = train_test_split(features, labels_encoded, test_size=0.2, random_state=42)"
   ],
   "outputs": [],
   "execution_count": 1
  },
  {
   "metadata": {
    "ExecuteTime": {
     "end_time": "2025-01-07T16:28:47.279140Z",
     "start_time": "2025-01-07T16:28:47.200681Z"
    }
   },
   "cell_type": "code",
   "source": [
    "from sklearn.ensemble import RandomForestClassifier\n",
    "\n",
    "# Initialize the RandomForest Classifier\n",
    "rf = RandomForestClassifier(random_state=42, n_estimators=4, n_jobs=-1)\n",
    "\n",
    "# Train the model\n",
    "rf.fit(X_train, y_train)\n",
    "\n",
    "# Predict on test data\n",
    "y_pred = rf.predict(X_test)\n",
    "\n",
    "# Map back to original labels for a readable report\n",
    "label_names = [label for label, index in sorted(label_map.items(), key=lambda item: item[1])]\n",
    "\n",
    "# Evaluate and print classification report\n",
    "print(\"\\nClassification Report (Decision Tree):\\n\")\n",
    "print(classification_report(y_test, y_pred, target_names=label_names, digits=5))"
   ],
   "id": "61a4ead506f4fd5e",
   "outputs": [
    {
     "name": "stdout",
     "output_type": "stream",
     "text": [
      "\n",
      "Classification Report (Decision Tree):\n",
      "\n",
      "              precision    recall  f1-score   support\n",
      "\n",
      "        AFIB    0.67012   0.76179   0.71302       424\n",
      "        GSVT    0.85941   0.78631   0.82124       482\n",
      "          SB    0.97318   0.98069   0.97692       777\n",
      "          SR    0.90802   0.86130   0.88404       447\n",
      "\n",
      "    accuracy                        0.86808      2130\n",
      "   macro avg    0.85268   0.84752   0.84881      2130\n",
      "weighted avg    0.87343   0.86808   0.86967      2130\n",
      "\n"
     ]
    }
   ],
   "execution_count": 2
  },
  {
   "metadata": {
    "ExecuteTime": {
     "end_time": "2025-01-07T16:28:47.342259Z",
     "start_time": "2025-01-07T16:28:47.309833Z"
    }
   },
   "cell_type": "code",
   "source": [
    "# Initialize the Decision Tree Classifier\n",
    "rf = RandomForestClassifier(random_state=42, n_estimators=2, n_jobs=-1)\n",
    "\n",
    "# Train the model\n",
    "rf.fit(X_train, y_train)\n",
    "\n",
    "# Predict on test data\n",
    "y_pred = rf.predict(X_test)\n",
    "\n",
    "# Map back to original labels for a readable report\n",
    "label_names = [label for label, index in sorted(label_map.items(), key=lambda item: item[1])]\n",
    "\n",
    "# Evaluate and print classification report\n",
    "print(\"\\nClassification Report (Decision Tree):\\n\")\n",
    "print(classification_report(y_test, y_pred, target_names=label_names, digits=5))"
   ],
   "id": "18ded982557ed4c3",
   "outputs": [
    {
     "name": "stdout",
     "output_type": "stream",
     "text": [
      "\n",
      "Classification Report (Decision Tree):\n",
      "\n",
      "              precision    recall  f1-score   support\n",
      "\n",
      "        AFIB    0.57877   0.82311   0.67965       424\n",
      "        GSVT    0.84596   0.69502   0.76310       482\n",
      "          SB    0.97382   0.95753   0.96561       777\n",
      "          SR    0.91826   0.75391   0.82801       447\n",
      "\n",
      "    accuracy                        0.82864      2130\n",
      "   macro avg    0.82920   0.80739   0.80909      2130\n",
      "weighted avg    0.85459   0.82864   0.83398      2130\n",
      "\n"
     ]
    }
   ],
   "execution_count": 3
  },
  {
   "metadata": {
    "ExecuteTime": {
     "end_time": "2025-01-07T16:28:47.397810Z",
     "start_time": "2025-01-07T16:28:47.354367Z"
    }
   },
   "cell_type": "code",
   "source": [
    "rf = RandomForestClassifier(random_state=42, n_estimators=6, n_jobs=-1)\n",
    "\n",
    "# Train the model\n",
    "rf.fit(X_train, y_train)\n",
    "\n",
    "# Predict on test data\n",
    "y_pred = rf.predict(X_test)\n",
    "\n",
    "# Map back to original labels for a readable report\n",
    "label_names = [label for label, index in sorted(label_map.items(), key=lambda item: item[1])]\n",
    "\n",
    "# Evaluate and print classification report\n",
    "print(\"\\nClassification Report (Decision Tree):\\n\")\n",
    "print(classification_report(y_test, y_pred, target_names=label_names, digits=5))"
   ],
   "id": "5f3aec8ca8ebcd59",
   "outputs": [
    {
     "name": "stdout",
     "output_type": "stream",
     "text": [
      "\n",
      "Classification Report (Decision Tree):\n",
      "\n",
      "              precision    recall  f1-score   support\n",
      "\n",
      "        AFIB    0.71082   0.75943   0.73432       424\n",
      "        GSVT    0.86755   0.81535   0.84064       482\n",
      "          SB    0.97212   0.98713   0.97957       777\n",
      "          SR    0.90805   0.88367   0.89569       447\n",
      "\n",
      "    accuracy                        0.88122      2130\n",
      "   macro avg    0.86463   0.86140   0.86256      2130\n",
      "weighted avg    0.88299   0.88122   0.88171      2130\n",
      "\n"
     ]
    }
   ],
   "execution_count": 4
  },
  {
   "metadata": {
    "ExecuteTime": {
     "end_time": "2025-01-07T16:28:47.449905Z",
     "start_time": "2025-01-07T16:28:47.405759Z"
    }
   },
   "cell_type": "code",
   "source": [
    "rf = RandomForestClassifier(random_state=42, n_estimators=8, n_jobs=-1)\n",
    "\n",
    "# Train the model\n",
    "rf.fit(X_train, y_train)\n",
    "\n",
    "# Predict on test data\n",
    "y_pred = rf.predict(X_test)\n",
    "\n",
    "# Map back to original labels for a readable report\n",
    "label_names = [label for label, index in sorted(label_map.items(), key=lambda item: item[1])]\n",
    "\n",
    "# Evaluate and print classification report\n",
    "print(\"\\nClassification Report (Decision Tree):\\n\")\n",
    "print(classification_report(y_test, y_pred, target_names=label_names, digits=5))"
   ],
   "id": "9330e403833c9e3a",
   "outputs": [
    {
     "name": "stdout",
     "output_type": "stream",
     "text": [
      "\n",
      "Classification Report (Decision Tree):\n",
      "\n",
      "              precision    recall  f1-score   support\n",
      "\n",
      "        AFIB    0.72831   0.75236   0.74014       424\n",
      "        GSVT    0.86481   0.83610   0.85021       482\n",
      "          SB    0.97710   0.98842   0.98273       777\n",
      "          SR    0.90455   0.89038   0.89741       447\n",
      "\n",
      "    accuracy                        0.88638      2130\n",
      "   macro avg    0.86869   0.86681   0.86762      2130\n",
      "weighted avg    0.88694   0.88638   0.88654      2130\n",
      "\n"
     ]
    }
   ],
   "execution_count": 5
  },
  {
   "metadata": {
    "ExecuteTime": {
     "end_time": "2025-01-07T16:28:47.504954Z",
     "start_time": "2025-01-07T16:28:47.460535Z"
    }
   },
   "cell_type": "code",
   "source": [
    "rf = RandomForestClassifier(random_state=42, n_estimators=8, n_jobs=-1)\n",
    "\n",
    "# Train the model\n",
    "rf.fit(X_train, y_train)\n",
    "\n",
    "# Predict on test data\n",
    "y_pred = rf.predict(X_test)\n",
    "\n",
    "# Map back to original labels for a readable report\n",
    "label_names = [label for label, index in sorted(label_map.items(), key=lambda item: item[1])]\n",
    "\n",
    "# Evaluate and print classification report\n",
    "print(\"\\nClassification Report (Decision Tree):\\n\")\n",
    "print(classification_report(y_test, y_pred, target_names=label_names, digits=5))"
   ],
   "id": "53a37d09603b2b5d",
   "outputs": [
    {
     "name": "stdout",
     "output_type": "stream",
     "text": [
      "\n",
      "Classification Report (Decision Tree):\n",
      "\n",
      "              precision    recall  f1-score   support\n",
      "\n",
      "        AFIB    0.72831   0.75236   0.74014       424\n",
      "        GSVT    0.86481   0.83610   0.85021       482\n",
      "          SB    0.97710   0.98842   0.98273       777\n",
      "          SR    0.90455   0.89038   0.89741       447\n",
      "\n",
      "    accuracy                        0.88638      2130\n",
      "   macro avg    0.86869   0.86681   0.86762      2130\n",
      "weighted avg    0.88694   0.88638   0.88654      2130\n",
      "\n"
     ]
    }
   ],
   "execution_count": 6
  },
  {
   "metadata": {
    "ExecuteTime": {
     "end_time": "2025-01-07T16:28:47.573229Z",
     "start_time": "2025-01-07T16:28:47.513034Z"
    }
   },
   "cell_type": "code",
   "source": [
    "rf = RandomForestClassifier(random_state=42, n_estimators=10, n_jobs=-1)\n",
    "\n",
    "# Train the model\n",
    "rf.fit(X_train, y_train)\n",
    "\n",
    "# Predict on test data\n",
    "y_pred = rf.predict(X_test)\n",
    "\n",
    "# Map back to original labels for a readable report\n",
    "label_names = [label for label, index in sorted(label_map.items(), key=lambda item: item[1])]\n",
    "\n",
    "# Evaluate and print classification report\n",
    "print(\"\\nClassification Report (Decision Tree):\\n\")\n",
    "print(classification_report(y_test, y_pred, target_names=label_names, digits=5))"
   ],
   "id": "b744ddeddf6a1d93",
   "outputs": [
    {
     "name": "stdout",
     "output_type": "stream",
     "text": [
      "\n",
      "Classification Report (Decision Tree):\n",
      "\n",
      "              precision    recall  f1-score   support\n",
      "\n",
      "        AFIB    0.73832   0.74528   0.74178       424\n",
      "        GSVT    0.86200   0.84232   0.85205       482\n",
      "          SB    0.97716   0.99099   0.98403       777\n",
      "          SR    0.90293   0.89485   0.89888       447\n",
      "\n",
      "    accuracy                        0.88826      2130\n",
      "   macro avg    0.87010   0.86836   0.86918      2130\n",
      "weighted avg    0.88798   0.88826   0.88807      2130\n",
      "\n"
     ]
    }
   ],
   "execution_count": 7
  },
  {
   "metadata": {
    "ExecuteTime": {
     "end_time": "2025-01-07T16:28:47.648628Z",
     "start_time": "2025-01-07T16:28:47.586302Z"
    }
   },
   "cell_type": "code",
   "source": [
    "# Initialize the Decision Tree Classifier\n",
    "rf = RandomForestClassifier(random_state=42, n_estimators=20, n_jobs=-1)\n",
    "\n",
    "# Train the model\n",
    "rf.fit(X_train, y_train)\n",
    "\n",
    "# Predict on test data\n",
    "y_pred = rf.predict(X_test)\n",
    "\n",
    "# Map back to original labels for a readable report\n",
    "label_names = [label for label, index in sorted(label_map.items(), key=lambda item: item[1])]\n",
    "\n",
    "# Evaluate and print classification report\n",
    "print(\"\\nClassification Report (Decision Tree):\\n\")\n",
    "print(classification_report(y_test, y_pred, target_names=label_names, digits=5))"
   ],
   "id": "90bb95e60d1c957a",
   "outputs": [
    {
     "name": "stdout",
     "output_type": "stream",
     "text": [
      "\n",
      "Classification Report (Decision Tree):\n",
      "\n",
      "              precision    recall  f1-score   support\n",
      "\n",
      "        AFIB    0.76271   0.74292   0.75269       424\n",
      "        GSVT    0.85921   0.86100   0.86010       482\n",
      "          SB    0.97592   0.99099   0.98340       777\n",
      "          SR    0.91011   0.90604   0.90807       447\n",
      "\n",
      "    accuracy                        0.89437      2130\n",
      "   macro avg    0.87699   0.87524   0.87607      2130\n",
      "weighted avg    0.89326   0.89437   0.89376      2130\n",
      "\n"
     ]
    }
   ],
   "execution_count": 8
  },
  {
   "metadata": {
    "ExecuteTime": {
     "end_time": "2025-01-07T16:28:47.732304Z",
     "start_time": "2025-01-07T16:28:47.656697Z"
    }
   },
   "cell_type": "code",
   "source": [
    "# Initialize the Decision Tree Classifier\n",
    "rf = RandomForestClassifier(random_state=42, n_estimators=30, n_jobs=-1)\n",
    "\n",
    "# Train the model\n",
    "rf.fit(X_train, y_train)\n",
    "\n",
    "# Predict on test data\n",
    "y_pred = rf.predict(X_test)\n",
    "\n",
    "# Map back to original labels for a readable report\n",
    "label_names = [label for label, index in sorted(label_map.items(), key=lambda item: item[1])]\n",
    "\n",
    "# Evaluate and print classification report\n",
    "print(\"\\nClassification Report (Decision Tree):\\n\")\n",
    "print(classification_report(y_test, y_pred, target_names=label_names, digits=5))"
   ],
   "id": "c790f4d7cc8c4e83",
   "outputs": [
    {
     "name": "stdout",
     "output_type": "stream",
     "text": [
      "\n",
      "Classification Report (Decision Tree):\n",
      "\n",
      "              precision    recall  f1-score   support\n",
      "\n",
      "        AFIB    0.77396   0.74292   0.75812       424\n",
      "        GSVT    0.85336   0.86929   0.86125       482\n",
      "          SB    0.97716   0.99099   0.98403       777\n",
      "          SR    0.91667   0.91051   0.91358       447\n",
      "\n",
      "    accuracy                        0.89718      2130\n",
      "   macro avg    0.88029   0.87843   0.87925      2130\n",
      "weighted avg    0.89600   0.89718   0.89649      2130\n",
      "\n"
     ]
    }
   ],
   "execution_count": 9
  },
  {
   "metadata": {
    "ExecuteTime": {
     "end_time": "2025-01-07T16:28:47.839633Z",
     "start_time": "2025-01-07T16:28:47.740085Z"
    }
   },
   "cell_type": "code",
   "source": [
    "# Initialize the Decision Tree Classifier\n",
    "rf = RandomForestClassifier(random_state=42, n_estimators=50, n_jobs=-1)\n",
    "\n",
    "# Train the model\n",
    "rf.fit(X_train, y_train)\n",
    "\n",
    "# Predict on test data\n",
    "y_pred = rf.predict(X_test)\n",
    "\n",
    "# Map back to original labels for a readable report\n",
    "label_names = [label for label, index in sorted(label_map.items(), key=lambda item: item[1])]\n",
    "\n",
    "# Evaluate and print classification report\n",
    "print(\"\\nClassification Report (Decision Tree):\\n\")\n",
    "print(classification_report(y_test, y_pred, target_names=label_names, digits=5))"
   ],
   "id": "e40f8dab27a9c044",
   "outputs": [
    {
     "name": "stdout",
     "output_type": "stream",
     "text": [
      "\n",
      "Classification Report (Decision Tree):\n",
      "\n",
      "              precision    recall  f1-score   support\n",
      "\n",
      "        AFIB    0.79798   0.74528   0.77073       424\n",
      "        GSVT    0.86061   0.88382   0.87206       482\n",
      "          SB    0.97716   0.99099   0.98403       777\n",
      "          SR    0.91353   0.92170   0.91759       447\n",
      "\n",
      "    accuracy                        0.90329      2130\n",
      "   macro avg    0.88732   0.88545   0.88610      2130\n",
      "weighted avg    0.90176   0.90329   0.90229      2130\n",
      "\n"
     ]
    }
   ],
   "execution_count": 10
  },
  {
   "metadata": {
    "ExecuteTime": {
     "end_time": "2025-01-07T16:28:48.028375Z",
     "start_time": "2025-01-07T16:28:47.851925Z"
    }
   },
   "cell_type": "code",
   "source": [
    "# Initialize the Decision Tree Classifier\n",
    "rf = RandomForestClassifier(random_state=42, n_estimators=100, n_jobs=-1)\n",
    "\n",
    "# Train the model\n",
    "rf.fit(X_train, y_train)\n",
    "\n",
    "# Predict on test data\n",
    "y_pred = rf.predict(X_test)\n",
    "\n",
    "# Map back to original labels for a readable report\n",
    "label_names = [label for label, index in sorted(label_map.items(), key=lambda item: item[1])]\n",
    "\n",
    "# Evaluate and print classification report\n",
    "print(\"\\nClassification Report (Decision Tree):\\n\")\n",
    "print(classification_report(y_test, y_pred, target_names=label_names, digits=5))"
   ],
   "id": "55eecdc0c847d921",
   "outputs": [
    {
     "name": "stdout",
     "output_type": "stream",
     "text": [
      "\n",
      "Classification Report (Decision Tree):\n",
      "\n",
      "              precision    recall  f1-score   support\n",
      "\n",
      "        AFIB    0.80362   0.73349   0.76695       424\n",
      "        GSVT    0.85200   0.88382   0.86762       482\n",
      "          SB    0.97716   0.99099   0.98403       777\n",
      "          SR    0.91429   0.93065   0.92239       447\n",
      "\n",
      "    accuracy                        0.90282      2130\n",
      "   macro avg    0.88677   0.88474   0.88525      2130\n",
      "weighted avg    0.90110   0.90282   0.90154      2130\n",
      "\n"
     ]
    }
   ],
   "execution_count": 11
  }
 ],
 "metadata": {
  "kernelspec": {
   "display_name": "Python 3",
   "language": "python",
   "name": "python3"
  },
  "language_info": {
   "codemirror_mode": {
    "name": "ipython",
    "version": 2
   },
   "file_extension": ".py",
   "mimetype": "text/x-python",
   "name": "python",
   "nbconvert_exporter": "python",
   "pygments_lexer": "ipython2",
   "version": "2.7.6"
  }
 },
 "nbformat": 4,
 "nbformat_minor": 5
}
