{
 "cells": [
  {
   "cell_type": "code",
   "id": "initial_id",
   "metadata": {
    "collapsed": true,
    "ExecuteTime": {
     "end_time": "2024-12-11T16:57:05.533190Z",
     "start_time": "2024-12-11T16:57:04.475438Z"
    }
   },
   "source": [
    "from sklearn.metrics import classification_report\n",
    "from sklearn.model_selection import train_test_split\n",
    "import pandas as pd\n",
    "import numpy as np\n",
    "\n",
    "# Load the Diagnostics.xlsx data\n",
    "diagnostics_file = \"../../../../Datasets/12-lead electrocardiogram database/Diagnostics.xlsx\"\n",
    "diagnostics_df = pd.read_excel(diagnostics_file)\n",
    "\n",
    "# Rename \"SA\" to \"SI\" in the \"Rhythm\" column\n",
    "diagnostics_df[\"Rhythm\"] = diagnostics_df[\"Rhythm\"].replace(\"SA\", \"SI\")\n",
    "\n",
    "# Drop rows with any missing values\n",
    "diagnostics_df = diagnostics_df.dropna()\n",
    "\n",
    "# Encode \"Gender\" column: 0 for \"MALE\" and 1 for \"FEMALE\"\n",
    "diagnostics_df[\"Gender\"] = diagnostics_df[\"Gender\"].map({\"MALE\": 0, \"FEMALE\": 1})\n",
    "\n",
    "# Merge specified labels\n",
    "merge_mapping = {\n",
    "    \"AF\": \"AFIB\", \"AFIB\": \"AFIB\",\n",
    "    \"SVT\": \"GSVT\", \"AT\": \"GSVT\", \"SAAWR\": \"GSVT\", \"ST\": \"GSVT\", \"AVNRT\": \"GSVT\", \"AVRT\": \"GSVT\",\n",
    "    \"SB\": \"SB\",\n",
    "    \"SR\": \"SR\", \"SI\": \"SR\"\n",
    "}\n",
    "diagnostics_df[\"Rhythm\"] = diagnostics_df[\"Rhythm\"].map(merge_mapping)\n",
    "\n",
    "# Separate features and labels\n",
    "features = diagnostics_df.drop(columns=[\"FileName\", \"Rhythm\", \"Beat\"]).values\n",
    "labels = diagnostics_df[\"Rhythm\"].values  # Using \"Rhythm\" as the target variable\n",
    "\n",
    "# Convert features to float32\n",
    "features = features.astype(\"float32\")\n",
    "\n",
    "# Encode labels as one-hot with merged classes\n",
    "unique_labels = np.unique(labels)\n",
    "label_map = {label: index for index, label in enumerate(unique_labels)}\n",
    "labels_encoded = np.array([label_map[label] for label in labels])\n",
    "\n",
    "# Train-test split\n",
    "X_train, X_test, y_train, y_test = train_test_split(features, labels_encoded, test_size=0.2, random_state=42)\n",
    "\n",
    "# Save X_test to a file\n",
    "np.savetxt(\"X_test.txt\", X_test, fmt='%f', delimiter=' ')\n",
    "\n",
    "# Save y_test to a separate file\n",
    "np.savetxt(\"y_test.txt\", y_test, fmt='%d')  # Use '%d' if y_test contains integers"
   ],
   "outputs": [],
   "execution_count": 3
  },
  {
   "metadata": {
    "ExecuteTime": {
     "end_time": "2024-12-11T16:57:05.541241Z",
     "start_time": "2024-12-11T16:57:05.539065Z"
    }
   },
   "cell_type": "code",
   "source": "print(X_test[1])",
   "id": "c515d459fd66a3cd",
   "outputs": [
    {
     "name": "stdout",
     "output_type": "stream",
     "text": [
      "[ 68.   0.  67. 250.  76. 482. 509.  75.  82.  11. 219. 257. 460.]\n"
     ]
    }
   ],
   "execution_count": 4
  },
  {
   "metadata": {
    "ExecuteTime": {
     "end_time": "2024-12-11T16:57:05.722326Z",
     "start_time": "2024-12-11T16:57:05.647306Z"
    }
   },
   "cell_type": "code",
   "source": [
    "from sklearn.tree import DecisionTreeClassifier\n",
    "\n",
    "# Initialize the Decision Tree Classifier\n",
    "dt_classifier = DecisionTreeClassifier(random_state=42)\n",
    "\n",
    "# Train the model\n",
    "dt_classifier.fit(X_train, y_train)\n",
    "\n",
    "# Predict on test data\n",
    "y_pred = dt_classifier.predict(X_test)\n",
    "\n",
    "# Map back to original labels for a readable report\n",
    "label_names = [label for label, index in sorted(label_map.items(), key=lambda item: item[1])]\n",
    "\n",
    "# Evaluate and print classification report\n",
    "print(\"\\nClassification Report (Decision Tree):\\n\")\n",
    "print(classification_report(y_test, y_pred, target_names=label_names, digits=5))"
   ],
   "id": "61a4ead506f4fd5e",
   "outputs": [
    {
     "name": "stdout",
     "output_type": "stream",
     "text": [
      "\n",
      "Classification Report (Decision Tree):\n",
      "\n",
      "              precision    recall  f1-score   support\n",
      "\n",
      "        AFIB    0.69007   0.67217   0.68100       424\n",
      "        GSVT    0.79352   0.81328   0.80328       482\n",
      "          SB    0.97823   0.98327   0.98074       777\n",
      "          SR    0.88009   0.87025   0.87514       447\n",
      "\n",
      "    accuracy                        0.85915      2130\n",
      "   macro avg    0.83548   0.83474   0.83504      2130\n",
      "weighted avg    0.85848   0.85915   0.85876      2130\n",
      "\n"
     ]
    }
   ],
   "execution_count": 5
  },
  {
   "metadata": {
    "ExecuteTime": {
     "end_time": "2024-12-11T16:57:05.732775Z",
     "start_time": "2024-12-11T16:57:05.730803Z"
    }
   },
   "cell_type": "code",
   "source": [
    "print(dt_classifier.get_depth())\n",
    "print(dt_classifier.get_n_leaves())"
   ],
   "id": "a94d4057c2fb42da",
   "outputs": [
    {
     "name": "stdout",
     "output_type": "stream",
     "text": [
      "24\n",
      "689\n"
     ]
    }
   ],
   "execution_count": 6
  },
  {
   "metadata": {
    "ExecuteTime": {
     "end_time": "2024-12-11T16:57:05.816758Z",
     "start_time": "2024-12-11T16:57:05.775795Z"
    }
   },
   "cell_type": "code",
   "source": [
    "# Time  to Generating cpp header file\n",
    "\n",
    "from micromlgen import port\n",
    "\n",
    "converted_c_code = port(dt_classifier)\n",
    "\n",
    "# Now you can save the code\n",
    "with open(\"MicroGencode/author_provided_feat_dt_v1.h\",\n",
    "          \"w\") as modelFile:\n",
    "    modelFile.write(converted_c_code)"
   ],
   "id": "9f4f9d76e83dc3fe",
   "outputs": [],
   "execution_count": 7
  },
  {
   "metadata": {
    "ExecuteTime": {
     "end_time": "2024-12-11T16:57:05.826074Z",
     "start_time": "2024-12-11T16:57:05.824834Z"
    }
   },
   "cell_type": "code",
   "source": "",
   "id": "4802071b9e8a4a38",
   "outputs": [],
   "execution_count": null
  }
 ],
 "metadata": {
  "kernelspec": {
   "display_name": "Python 3",
   "language": "python",
   "name": "python3"
  },
  "language_info": {
   "codemirror_mode": {
    "name": "ipython",
    "version": 2
   },
   "file_extension": ".py",
   "mimetype": "text/x-python",
   "name": "python",
   "nbconvert_exporter": "python",
   "pygments_lexer": "ipython2",
   "version": "2.7.6"
  }
 },
 "nbformat": 4,
 "nbformat_minor": 5
}
