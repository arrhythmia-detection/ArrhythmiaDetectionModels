{
 "cells": [
  {
   "cell_type": "code",
   "id": "initial_id",
   "metadata": {
    "collapsed": true,
    "ExecuteTime": {
     "end_time": "2024-11-08T12:27:36.552750Z",
     "start_time": "2024-11-08T12:27:34.828568Z"
    }
   },
   "source": [
    "import os\n",
    "import numpy as np\n",
    "import pandas as pd\n",
    "from sklearn.model_selection import train_test_split\n",
    "from sklearn.preprocessing import StandardScaler\n",
    "\n",
    "# Defining file path\n",
    "ecg_folder = \"../../../../Datasets/12-lead electrocardiogram database/ECGDataDenoised\"\n",
    "attributes_file = \"../../../../Datasets/12-lead electrocardiogram database/AttributesDictionary.xlsx\"\n",
    "diagnostics_file = \"../../../../Datasets/12-lead electrocardiogram database/Diagnostics.xlsx\"\n",
    "rhythm_names_file = \"../../../../Datasets/12-lead electrocardiogram database/RhythmNames.xlsx\"\n",
    "\n",
    "# Checking for missing files and stuff\n",
    "for file_path in [attributes_file, diagnostics_file, rhythm_names_file]:\n",
    "    if not os.path.exists(file_path):\n",
    "        raise FileNotFoundError(f\"Required file not found: {file_path}\")\n",
    "\n",
    "# Loading metadata\n",
    "attributes_df = pd.read_excel(attributes_file)\n",
    "diagnostics_df = pd.read_excel(diagnostics_file)\n",
    "rhythm_names_df = pd.read_excel(rhythm_names_file)\n",
    "\n",
    "# Removing trailing spaces in acronym columns for accurate matching\n",
    "rhythm_names_df['Acronym Name'] = rhythm_names_df['Acronym Name'].str.strip()\n",
    "\n",
    "# Creating sets of valid acronyms for rhythm\n",
    "valid_rhythms = set(rhythm_names_df['Acronym Name'])\n",
    "print(valid_rhythms)"
   ],
   "outputs": [
    {
     "name": "stdout",
     "output_type": "stream",
     "text": [
      "{'SR', 'AFIB', 'AF', 'AVRT', 'SVT', 'SI', 'ST', 'SB', 'AT', 'AVNRT', 'SAAWR'}\n"
     ]
    }
   ],
   "execution_count": 1
  },
  {
   "metadata": {
    "ExecuteTime": {
     "end_time": "2024-11-08T12:28:34.987891Z",
     "start_time": "2024-11-08T12:27:36.558795Z"
    }
   },
   "cell_type": "code",
   "source": [
    "# Load ECG data\n",
    "def load_ecg_data(ecg_folder, diagnostics_df):\n",
    "    data = []\n",
    "    labels = []\n",
    "    metadata = []\n",
    "\n",
    "    # Check if the folder exists\n",
    "    if not os.path.exists(ecg_folder):\n",
    "        raise FileNotFoundError(f\"ECG data folder not found: {ecg_folder}\")\n",
    "\n",
    "    for file_name in os.listdir(ecg_folder):\n",
    "        if file_name.endswith('.csv'):\n",
    "            # Read ECG data\n",
    "            ecg_data = pd.read_csv(os.path.join(ecg_folder, file_name), header=None)\n",
    "            ecg_data = ecg_data.to_numpy()  # Convert to numpy array\n",
    "\n",
    "            # Retrieve associated label and metadata\n",
    "            record_id = file_name.replace('.csv', '')\n",
    "            record_info = diagnostics_df[diagnostics_df['FileName'] == record_id]\n",
    "\n",
    "            # Skip if no label information is available\n",
    "            if record_info.empty:\n",
    "                raise ValueError(f\"No diagnostic information found for file: {file_name}\")\n",
    "\n",
    "            # Get rhythm and condition acronyms directly\n",
    "            rhythm_acronym = record_info['Rhythm'].values[0].strip()\n",
    "\n",
    "            # The author of the dataset seems like did an oopsie\n",
    "            if rhythm_acronym == \"SA\":\n",
    "                rhythm_acronym = \"SI\"\n",
    "                \n",
    "            # Validate rhythm and condition acronyms\n",
    "            if rhythm_acronym not in valid_rhythms:\n",
    "                raise ValueError(f\"Unknown rhythm acronym '{rhythm_acronym}' found in file: {file_name}\")\n",
    "\n",
    "            # Set label as rhythm acronym (or use condition acronym if preferred)\n",
    "            label = rhythm_acronym  # Use rhythm acronym as label\n",
    "\n",
    "            # Additional metadata\n",
    "            patient_age = record_info[\"PatientAge\"].values[0]\n",
    "            ventricular_rate = record_info[\"VentricularRate\"].values[0]\n",
    "            atrial_rate = record_info[\"AtrialRate\"].values[0]\n",
    "\n",
    "            data.append(ecg_data)\n",
    "            labels.append(label)\n",
    "            metadata.append({\n",
    "                \"patient_age\": patient_age,\n",
    "                \"ventricular_rate\": ventricular_rate,\n",
    "                \"atrial_rate\": atrial_rate\n",
    "            })\n",
    "\n",
    "    return data, np.array(labels), metadata\n",
    "\n",
    "\n",
    "# Load ECG data and labels\n",
    "ecg_data, ecg_labels, ecg_metadata = load_ecg_data(ecg_folder, diagnostics_df)\n",
    "\n",
    "# Standardize each ECG signal individually\n",
    "scaler = StandardScaler()\n",
    "ecg_data = [scaler.fit_transform(sample) for sample in ecg_data]\n",
    "\n",
    "# Define a fixed sequence length (pad or truncate to this length)\n",
    "sequence_length = 5000  # Adjust as per dataset requirements\n",
    "\n",
    "\n",
    "# Function to pad or truncate each ECG signal to a fixed length\n",
    "def preprocess_sequence(data, length):\n",
    "    processed_data = []\n",
    "    for sample in data:\n",
    "        if sample.shape[0] > length:\n",
    "            processed_data.append(sample[:length])\n",
    "        else:\n",
    "            pad_width = length - sample.shape[0]\n",
    "            processed_data.append(np.pad(sample, ((0, pad_width), (0, 0)), mode=\"constant\"))\n",
    "    return np.array(processed_data)\n",
    "\n",
    "\n",
    "# initiating\n",
    "ecg_data = preprocess_sequence(ecg_data, sequence_length)"
   ],
   "id": "785f69cc844858cc",
   "outputs": [],
   "execution_count": 2
  },
  {
   "metadata": {
    "ExecuteTime": {
     "end_time": "2024-11-08T12:28:36.147045Z",
     "start_time": "2024-11-08T12:28:35.031274Z"
    }
   },
   "cell_type": "code",
   "source": [
    "from collections import Counter\n",
    "\n",
    "# Filter out classes with fewer than 2 instances\n",
    "label_counts = Counter(ecg_labels)\n",
    "print(label_counts)\n",
    "filtered_indices = [i for i, label in enumerate(ecg_labels) if label_counts[label] > 1]\n",
    "filtered_ecg_data = ecg_data[filtered_indices]\n",
    "filtered_ecg_labels = ecg_labels[filtered_indices]\n",
    "\n",
    "# Train-test split with filtered data\n",
    "X_train, X_test, y_train, y_test = train_test_split(filtered_ecg_data, filtered_ecg_labels, test_size=0.25,\n",
    "                                                    random_state=42, stratify=filtered_ecg_labels)\n",
    "\n",
    "# Verify shapes and data summary\n",
    "print(\"Training data shape:\", X_train.shape)\n",
    "print(\"Testing data shape:\", X_test.shape)\n",
    "print(\"Training labels shape:\", y_train.shape)\n",
    "print(\"Testing labels shape:\", y_test.shape)\n",
    "print(\"Metadata example:\", ecg_metadata[0])"
   ],
   "id": "e18d5f576a208cc7",
   "outputs": [
    {
     "name": "stdout",
     "output_type": "stream",
     "text": [
      "Counter({'SB': 3889, 'SR': 1826, 'AFIB': 1780, 'ST': 1568, 'SVT': 587, 'AF': 445, 'SI': 399, 'AT': 121, 'AVNRT': 16, 'AVRT': 8, 'SAAWR': 7})\n",
      "Training data shape: (7984, 5000, 12)\n",
      "Testing data shape: (2662, 5000, 12)\n",
      "Training labels shape: (7984,)\n",
      "Testing labels shape: (2662,)\n",
      "Metadata example: {'patient_age': 82, 'ventricular_rate': 143, 'atrial_rate': 144}\n"
     ]
    }
   ],
   "execution_count": 3
  },
  {
   "metadata": {
    "ExecuteTime": {
     "end_time": "2024-11-08T12:28:36.165826Z",
     "start_time": "2024-11-08T12:28:36.160871Z"
    }
   },
   "cell_type": "code",
   "source": "X_train",
   "id": "ba2df6f8deb87b2",
   "outputs": [
    {
     "data": {
      "text/plain": [
       "array([[[-4.99469302e-01, -3.46706602e-01,  5.71870791e-02, ...,\n",
       "         -9.89982759e-02, -1.52578121e-01,  1.07958090e-01],\n",
       "        [-4.60453887e-01, -3.47442777e-01, -6.97010727e-02, ...,\n",
       "         -1.38145379e-01, -1.62969205e-01,  2.26572811e-02],\n",
       "        [-4.10746611e-01, -3.51776342e-01, -2.45500077e-01, ...,\n",
       "         -1.77558083e-01, -1.78843441e-01, -5.76279899e-02],\n",
       "        ...,\n",
       "        [-1.22298004e+00, -9.18835855e-01, -3.20261691e-02, ...,\n",
       "         -1.08560774e+00, -9.05405961e-01, -1.63877634e+00],\n",
       "        [-1.37052206e+00, -9.19784534e-01,  4.37098219e-01, ...,\n",
       "         -1.09644289e+00, -8.99777457e-01, -1.61553181e+00],\n",
       "        [-1.49953906e+00, -9.20353741e-01,  8.47959096e-01, ...,\n",
       "         -1.11627954e+00, -9.02560783e-01, -1.60130646e+00]],\n",
       "\n",
       "       [[-1.07242928e+00, -1.36547729e+00, -5.12857656e-01, ...,\n",
       "         -2.22476715e-01, -6.14322396e-01, -7.18602923e-01],\n",
       "        [-9.59694553e-01, -1.36614529e+00, -6.47993617e-01, ...,\n",
       "         -1.82431931e-01, -5.48641902e-01, -6.83226334e-01],\n",
       "        [-8.39599144e-01, -1.31405448e+00, -7.25035565e-01, ...,\n",
       "         -1.43686067e-01, -4.94844650e-01, -6.50220342e-01],\n",
       "        ...,\n",
       "        [-5.92476552e-01, -6.04797286e-01, -1.41211843e-01, ...,\n",
       "         -6.04639343e-01, -5.43972498e-01, -5.54558811e-01],\n",
       "        [-4.34578761e-01, -2.23382066e-01,  1.53031571e-01, ...,\n",
       "         -6.24397727e-01, -5.74634765e-01, -5.50159532e-01],\n",
       "        [-2.57653872e-01,  2.25148728e-01,  5.09762582e-01, ...,\n",
       "         -6.46062251e-01, -6.10372071e-01, -5.43218700e-01]],\n",
       "\n",
       "       [[-3.71650284e-01, -1.30390830e-01,  1.59428094e-01, ...,\n",
       "         -2.07845476e-01, -3.36359436e-01, -1.41455326e-01],\n",
       "        [-2.38097271e-01, -9.89937899e-02,  1.09108463e-01, ...,\n",
       "         -1.95997879e-01, -3.22994679e-01, -1.46057266e-01],\n",
       "        [-1.20543235e-01, -7.11946521e-02,  6.49894273e-02, ...,\n",
       "         -1.83388111e-01, -3.07664402e-01, -1.47484262e-01],\n",
       "        ...,\n",
       "        [-5.49078865e-01, -5.36748947e-01, -6.71331169e-01, ...,\n",
       "         -7.87042081e-01, -8.76271151e-01, -5.21688100e-01],\n",
       "        [-4.90436218e-01, -5.28444383e-01, -7.04042315e-01, ...,\n",
       "         -7.91117051e-01, -8.73598819e-01, -5.17960134e-01],\n",
       "        [-4.22534722e-01, -5.23261266e-01, -7.49154650e-01, ...,\n",
       "         -7.97682281e-01, -8.72282018e-01, -5.14562994e-01]],\n",
       "\n",
       "       ...,\n",
       "\n",
       "       [[ 1.86543248e-01,  1.80765155e-01,  6.39474980e-03, ...,\n",
       "         -1.24736293e-01, -3.01197167e-02, -3.36792006e-03],\n",
       "        [ 6.03959347e-02, -7.42649578e-04,  3.77762519e-02, ...,\n",
       "         -1.16058964e-01, -4.43987619e-02, -4.53396237e-03],\n",
       "        [-3.74620049e-02, -1.39735957e-01,  6.40431138e-02, ...,\n",
       "         -1.13418615e-01, -6.26784016e-02, -9.73117955e-03],\n",
       "        ...,\n",
       "        [-9.61655544e-02, -2.53577765e-02,  1.93250315e-01, ...,\n",
       "          8.92209479e-01, -7.55031069e-01, -1.47455518e+00],\n",
       "        [-1.67541185e-01,  1.23565384e-01,  4.81359080e-01, ...,\n",
       "          9.19099468e-01, -7.74328054e-01, -1.52540296e+00],\n",
       "        [-2.54579359e-01,  2.98960488e-01,  8.26309007e-01, ...,\n",
       "          9.48864210e-01, -7.90837295e-01, -1.57679211e+00]],\n",
       "\n",
       "       [[-4.99081015e-01, -3.95119925e-01,  7.10164740e-02, ...,\n",
       "         -9.76818013e-01, -5.38088737e-01, -4.27664667e-01],\n",
       "        [-5.13159976e-01, -3.92515303e-01,  9.46249895e-02, ...,\n",
       "         -9.66720025e-01, -5.35254905e-01, -4.30987791e-01],\n",
       "        [-5.30002226e-01, -3.89185109e-01,  1.23723627e-01, ...,\n",
       "         -9.55413124e-01, -5.30683588e-01, -4.32972171e-01],\n",
       "        ...,\n",
       "        [-3.42623831e-01, -2.50467638e-01, -1.59341148e-01, ...,\n",
       "         -2.03326384e-01, -1.11526502e-01, -5.07654476e-02],\n",
       "        [-3.88742859e-01, -2.84906311e-01, -1.68378582e-01, ...,\n",
       "         -2.07244688e-01, -1.05384396e-01, -4.92557999e-02],\n",
       "        [-4.42759645e-01, -3.22692852e-01, -1.73237588e-01, ...,\n",
       "         -2.13367482e-01, -1.00024478e-01, -4.99394140e-02]],\n",
       "\n",
       "       [[-4.28749510e-01, -3.55456514e-01, -2.41217997e-01, ...,\n",
       "         -2.97512139e-01, -2.28727622e-01, -1.81948067e-01],\n",
       "        [-4.19732977e-01, -3.55784766e-01, -2.52219043e-01, ...,\n",
       "         -2.94105251e-01, -2.31357726e-01, -1.83943773e-01],\n",
       "        [-4.12614526e-01, -3.55082801e-01, -2.58530844e-01, ...,\n",
       "         -2.91332416e-01, -2.33968016e-01, -1.86027208e-01],\n",
       "        ...,\n",
       "        [-1.18342556e-01, -1.89749629e-01, -3.96346577e-01, ...,\n",
       "         -1.32060176e-02, -1.58527146e-01, -1.54117430e+00],\n",
       "        [-2.79158312e-01, -3.46360944e-01, -5.28597585e-01, ...,\n",
       "         -5.89860093e-03, -1.60196345e-01, -1.57491231e+00],\n",
       "        [-4.61508726e-01, -5.20351247e-01, -6.70442199e-01, ...,\n",
       "          5.53867217e-03, -1.61563404e-01, -1.61005399e+00]]])"
      ]
     },
     "execution_count": 4,
     "metadata": {},
     "output_type": "execute_result"
    }
   ],
   "execution_count": 4
  },
  {
   "metadata": {
    "ExecuteTime": {
     "end_time": "2024-11-08T12:28:36.188354Z",
     "start_time": "2024-11-08T12:28:36.185026Z"
    }
   },
   "cell_type": "code",
   "source": "y_train",
   "id": "ab34f3d0881051ab",
   "outputs": [
    {
     "data": {
      "text/plain": [
       "array(['SB', 'AFIB', 'AFIB', ..., 'AFIB', 'SB', 'SR'], dtype='<U5')"
      ]
     },
     "execution_count": 5,
     "metadata": {},
     "output_type": "execute_result"
    }
   ],
   "execution_count": 5
  },
  {
   "metadata": {
    "ExecuteTime": {
     "end_time": "2024-11-08T12:32:32.351388Z",
     "start_time": "2024-11-08T12:28:36.233643Z"
    }
   },
   "cell_type": "code",
   "source": [
    "import os\n",
    "\n",
    "# Directory to save the train-test split data\n",
    "output_dir = \"../../../Datasets/12-lead electrocardiogram database/FirstRevFull5000Sample\"\n",
    "\n",
    "# Creating directory if it doesn't exist already\n",
    "if not os.path.exists(output_dir):\n",
    "    os.makedirs(output_dir)\n",
    "\n",
    "# function to save the stuff\n",
    "def save_split(data, labels, split_name):\n",
    "    data_file = os.path.join(output_dir, f\"X_{split_name}.txt\")\n",
    "    labels_file = os.path.join(output_dir, f\"y_{split_name}.txt\")\n",
    "\n",
    "    # Saving the data\n",
    "    with open(data_file, \"w\") as f_data:\n",
    "        for sample in data:\n",
    "            # Convert each sample to a space-separated string and write to file\n",
    "            sample_str = \" \".join(map(str, sample.flatten()))\n",
    "            f_data.write(sample_str + \"\\n\")\n",
    "\n",
    "    # Save labels\n",
    "    with open(labels_file, \"w\") as f_labels:\n",
    "        for label in labels:\n",
    "            f_labels.write(str(label) + \"\\n\")\n",
    "\n",
    "# Initialing the process\n",
    "save_split(X_train, y_train, \"train\")\n",
    "save_split(X_test, y_test, \"test\")\n",
    "\n",
    "print(f\"Train and test data have been saved to the '{output_dir}' directory.\")"
   ],
   "id": "6eadd63129db7ed0",
   "outputs": [
    {
     "name": "stdout",
     "output_type": "stream",
     "text": [
      "Train and test data have been saved to the '../../../Datasets/12-lead electrocardiogram database/FirstRevFull5000Sample' directory.\n"
     ]
    }
   ],
   "execution_count": 6
  },
  {
   "metadata": {
    "ExecuteTime": {
     "end_time": "2024-11-08T12:22:38.608810Z",
     "start_time": "2024-11-08T12:22:38.606675Z"
    }
   },
   "cell_type": "code",
   "source": "",
   "id": "5cdd7d3dec2c3b16",
   "outputs": [],
   "execution_count": null
  }
 ],
 "metadata": {
  "kernelspec": {
   "display_name": "Python 3",
   "language": "python",
   "name": "python3"
  },
  "language_info": {
   "codemirror_mode": {
    "name": "ipython",
    "version": 2
   },
   "file_extension": ".py",
   "mimetype": "text/x-python",
   "name": "python",
   "nbconvert_exporter": "python",
   "pygments_lexer": "ipython2",
   "version": "2.7.6"
  }
 },
 "nbformat": 4,
 "nbformat_minor": 5
}
