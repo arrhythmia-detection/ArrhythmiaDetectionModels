{
 "cells": [
  {
   "metadata": {
    "ExecuteTime": {
     "end_time": "2024-11-25T04:41:02.678900Z",
     "start_time": "2024-11-25T04:41:00.519116Z"
    }
   },
   "cell_type": "code",
   "source": [
    "import numpy as np\n",
    "import pandas as pd\n",
    "import os\n",
    "from tqdm import tqdm\n",
    "import biosppy.signals.ecg as ecg\n",
    "from typing import Tuple, List, Dict\n",
    "from sklearn.model_selection import train_test_split\n",
    "from sklearn.preprocessing import StandardScaler, LabelEncoder\n",
    "from sklearn.metrics import classification_report, confusion_matrix\n",
    "import tensorflow as tf\n",
    "# noinspection PyUnresolvedReferences\n",
    "from tensorflow.keras.models import Sequential\n",
    "# noinspection PyUnresolvedReferences\n",
    "from tensorflow.keras.layers import Dense, Dropout\n",
    "# noinspection PyUnresolvedReferences\n",
    "from tensorflow.keras.utils import to_categorical\n",
    "import matplotlib.pyplot as plt\n",
    "import seaborn as sns\n",
    "\n",
    "# Defining file path\n",
    "ecg_folder = \"../../../../Datasets/12-lead electrocardiogram database/ECGDataDenoised\"\n",
    "attributes_file = \"../../../../Datasets/12-lead electrocardiogram database/AttributesDictionary.xlsx\"\n",
    "diagnostics_file = \"../../../../Datasets/12-lead electrocardiogram database/Diagnostics.xlsx\"\n",
    "rhythm_names_file = \"../../../../Datasets/12-lead electrocardiogram database/RhythmNames.xlsx\"\n",
    "\n",
    "# Checking for missing files and stuff\n",
    "for file_path in [attributes_file, diagnostics_file, rhythm_names_file]:\n",
    "    if not os.path.exists(file_path):\n",
    "        raise FileNotFoundError(f\"Required file not found: {file_path}\")\n",
    "\n",
    "# Loading metadata\n",
    "attributes_df = pd.read_excel(attributes_file)\n",
    "diagnostics_df = pd.read_excel(diagnostics_file)\n",
    "rhythm_names_df = pd.read_excel(rhythm_names_file)\n",
    "\n",
    "# Removing trailing spaces in acronym columns for accurate matching\n",
    "rhythm_names_df['Acronym Name'] = rhythm_names_df['Acronym Name'].str.strip()\n",
    "\n",
    "# Creating sets of valid acronyms for rhythm\n",
    "valid_rhythms = set(rhythm_names_df['Acronym Name'])\n",
    "print(valid_rhythms)"
   ],
   "id": "c8875cfcd717e270",
   "outputs": [
    {
     "name": "stderr",
     "output_type": "stream",
     "text": [
      "2024-11-25 10:41:00.744223: E external/local_xla/xla/stream_executor/cuda/cuda_fft.cc:485] Unable to register cuFFT factory: Attempting to register factory for plugin cuFFT when one has already been registered\n",
      "2024-11-25 10:41:00.754843: E external/local_xla/xla/stream_executor/cuda/cuda_dnn.cc:8454] Unable to register cuDNN factory: Attempting to register factory for plugin cuDNN when one has already been registered\n",
      "2024-11-25 10:41:00.758024: E external/local_xla/xla/stream_executor/cuda/cuda_blas.cc:1452] Unable to register cuBLAS factory: Attempting to register factory for plugin cuBLAS when one has already been registered\n",
      "2024-11-25 10:41:00.766631: I tensorflow/core/platform/cpu_feature_guard.cc:210] This TensorFlow binary is optimized to use available CPU instructions in performance-critical operations.\n",
      "To enable the following instructions: AVX2 FMA, in other operations, rebuild TensorFlow with the appropriate compiler flags.\n",
      "2024-11-25 10:41:01.290054: W tensorflow/compiler/tf2tensorrt/utils/py_utils.cc:38] TF-TRT Warning: Could not find TensorRT\n"
     ]
    },
    {
     "name": "stdout",
     "output_type": "stream",
     "text": [
      "{'AVNRT', 'SAAWR', 'SVT', 'SB', 'SR', 'AF', 'AFIB', 'SI', 'ST', 'AVRT', 'AT'}\n"
     ]
    }
   ],
   "execution_count": 1
  },
  {
   "metadata": {
    "ExecuteTime": {
     "end_time": "2024-11-25T05:01:25.886645Z",
     "start_time": "2024-11-25T04:41:02.683980Z"
    }
   },
   "cell_type": "code",
   "source": [
    "def load_and_preprocess_data(ecg_folder: str, diagnostics_df: pd.DataFrame, rhythm_mapping: Dict[str, str]) -> Tuple[\n",
    "    np.ndarray, np.ndarray]:\n",
    "    \"\"\"\n",
    "    Load ECG signals and extract features using BioSPPy\n",
    "    \"\"\"\n",
    "    features_list = []\n",
    "    labels = []\n",
    "\n",
    "    # Process each ECG file\n",
    "    for idx, row in tqdm(diagnostics_df.iterrows(), desc=\"Processing ECG files\"):\n",
    "        file_path = os.path.join(ecg_folder, f\"{row['FileName']}.csv\")\n",
    "\n",
    "        if os.path.exists(file_path):\n",
    "            # Load ECG signal\n",
    "            signal = pd.read_csv(file_path).values.T  # Transpose to get [leads, samples]\n",
    "\n",
    "            # Extract features for each lead\n",
    "            lead_features = []\n",
    "            for lead_signal in signal:\n",
    "                try:\n",
    "                    # Extract features using BioSPPy\n",
    "                    out = ecg.ecg(signal=lead_signal, sampling_rate=500.0, show=False)\n",
    "\n",
    "                    # Extract relevant features\n",
    "                    features = {\n",
    "                        'heart_rate': np.mean(out['heart_rate']),\n",
    "                        'rpeaks_count': len(out['rpeaks']),\n",
    "                        'templates_mean': np.mean(out['templates'], axis=0),\n",
    "                        'templates_std': np.std(out['templates'], axis=0)\n",
    "                    }\n",
    "\n",
    "                    # Flatten features into a 1D array\n",
    "                    lead_features.extend([\n",
    "                        features['heart_rate'],\n",
    "                        features['rpeaks_count'],\n",
    "                        *features['templates_mean'],\n",
    "                        *features['templates_std']\n",
    "                    ])\n",
    "                except Exception as e:\n",
    "                    print(f\"Error processing file {file_path}: {str(e)}\")\n",
    "                    continue\n",
    "\n",
    "            features_list.append(lead_features)\n",
    "\n",
    "            # Map rhythm to reduced set\n",
    "            rhythm = row['Rhythm']\n",
    "            mapped_rhythm = rhythm_mapping.get(rhythm, None)\n",
    "            if mapped_rhythm:\n",
    "                labels.append(mapped_rhythm)\n",
    "\n",
    "    return np.array(features_list), np.array(labels)\n",
    "\n",
    "\n",
    "def create_mlp_model(input_shape: int, num_classes: int) -> tf.keras.Model:\n",
    "    \"\"\"\n",
    "    Create a simple MLP model\n",
    "    \"\"\"\n",
    "    model = Sequential([\n",
    "        Dense(256, activation='relu', input_shape=(input_shape,)),\n",
    "        Dropout(0.3),\n",
    "        Dense(128, activation='relu'),\n",
    "        Dropout(0.2),\n",
    "        Dense(64, activation='relu'),\n",
    "        Dense(num_classes, activation='softmax')\n",
    "    ])\n",
    "\n",
    "    model.compile(\n",
    "        optimizer='adam',\n",
    "        loss='categorical_crossentropy',\n",
    "        metrics=['accuracy']\n",
    "    )\n",
    "\n",
    "    return model\n",
    "\n",
    "\n",
    "def train_and_evaluate(X: np.ndarray, y: np.ndarray) -> Tuple[tf.keras.Model, dict]:\n",
    "    \"\"\"\n",
    "    Train and evaluate the MLP model\n",
    "    \"\"\"\n",
    "    # Split the data\n",
    "    X_train, X_test, y_train, y_test = train_test_split(X, y, test_size=0.2, random_state=42)\n",
    "\n",
    "    # Scale the features\n",
    "    scaler = StandardScaler()\n",
    "    X_train_scaled = scaler.fit_transform(X_train)\n",
    "    X_test_scaled = scaler.transform(X_test)\n",
    "\n",
    "    # Convert labels to categorical\n",
    "    le = LabelEncoder()\n",
    "    y_train_encoded = le.fit_transform(y_train)\n",
    "    y_test_encoded = le.transform(y_test)\n",
    "    y_train_cat = to_categorical(y_train_encoded)\n",
    "    y_test_cat = to_categorical(y_test_encoded)\n",
    "\n",
    "    # Create and train model\n",
    "    model = create_mlp_model(X_train.shape[1], len(set(y_train)))\n",
    "\n",
    "    history = model.fit(\n",
    "        X_train_scaled,\n",
    "        y_train_cat,\n",
    "        epochs=50,\n",
    "        batch_size=32,\n",
    "        validation_split=0.2,\n",
    "        callbacks=[\n",
    "            tf.keras.callbacks.EarlyStopping(\n",
    "                monitor='val_loss',\n",
    "                patience=5,\n",
    "                restore_best_weights=True\n",
    "            )\n",
    "        ]\n",
    "    )\n",
    "\n",
    "    # Evaluate model\n",
    "    y_pred = model.predict(X_test_scaled)\n",
    "    y_pred_classes = np.argmax(y_pred, axis=1)\n",
    "    y_test_classes = np.argmax(y_test_cat, axis=1)\n",
    "\n",
    "    # Generate classification report\n",
    "    report = classification_report(\n",
    "        y_test_classes,\n",
    "        y_pred_classes,\n",
    "        target_names=le.classes_,\n",
    "        output_dict=True\n",
    "    )\n",
    "\n",
    "    # Plot confusion matrix\n",
    "    plt.figure(figsize=(10, 8))\n",
    "    sns.heatmap(\n",
    "        confusion_matrix(y_test_classes, y_pred_classes),\n",
    "        annot=True,\n",
    "        fmt='d',\n",
    "        xticklabels=le.classes_,\n",
    "        yticklabels=le.classes_\n",
    "    )\n",
    "    plt.title('Confusion Matrix')\n",
    "    plt.ylabel('True Label')\n",
    "    plt.xlabel('Predicted Label')\n",
    "    plt.show()\n",
    "\n",
    "    return model, report\n",
    "\n",
    "\n",
    "# Your rhythm mapping\n",
    "rhythm_mapping = {\n",
    "    'AFIB': 'AFIB',\n",
    "    'AF': 'AFIB',\n",
    "    'SVT': 'GSVT',\n",
    "    'AT': 'GSVT',\n",
    "    'SAAWR': 'GSVT',\n",
    "    'ST': 'GSVT',\n",
    "    'AVNRT': 'GSVT',\n",
    "    'AVRT': 'GSVT',\n",
    "    'SB': 'SB',\n",
    "    'SR': 'SR',\n",
    "    'SA': 'SR'\n",
    "}\n",
    "\n",
    "# Extract features\n",
    "X, y = load_and_preprocess_data(ecg_folder, diagnostics_df, rhythm_mapping)\n",
    "\n",
    "# Train and evaluate model\n",
    "model, report = train_and_evaluate(X, y)\n",
    "\n",
    "# Print classification report\n",
    "print(\"\\nClassification Report:\")\n",
    "print(pd.DataFrame(report).transpose())"
   ],
   "id": "e4c6f73b938bb3f1",
   "outputs": [
    {
     "name": "stderr",
     "output_type": "stream",
     "text": [
      "Processing ECG files: 459it [01:42,  4.30it/s]"
     ]
    },
    {
     "name": "stdout",
     "output_type": "stream",
     "text": [
      "Error processing file ../../../../Datasets/12-lead electrocardiogram database/ECGDataDenoised/MUSE_20180712_153140_95000.csv: Not enough beats to compute heart rate.\n"
     ]
    },
    {
     "name": "stderr",
     "output_type": "stream",
     "text": [
      "Processing ECG files: 730it [02:48,  4.40it/s]"
     ]
    },
    {
     "name": "stdout",
     "output_type": "stream",
     "text": [
      "Error processing file ../../../../Datasets/12-lead electrocardiogram database/ECGDataDenoised/MUSE_20180114_124230_39000.csv: Not enough beats to compute heart rate.\n",
      "Error processing file ../../../../Datasets/12-lead electrocardiogram database/ECGDataDenoised/MUSE_20180114_124230_39000.csv: Not enough beats to compute heart rate.\n",
      "Error processing file ../../../../Datasets/12-lead electrocardiogram database/ECGDataDenoised/MUSE_20180114_124230_39000.csv: Not enough beats to compute heart rate.\n",
      "Error processing file ../../../../Datasets/12-lead electrocardiogram database/ECGDataDenoised/MUSE_20180114_124230_39000.csv: Not enough beats to compute heart rate.\n",
      "Error processing file ../../../../Datasets/12-lead electrocardiogram database/ECGDataDenoised/MUSE_20180114_124230_39000.csv: Not enough beats to compute heart rate.\n",
      "Error processing file ../../../../Datasets/12-lead electrocardiogram database/ECGDataDenoised/MUSE_20180114_124230_39000.csv: Not enough beats to compute heart rate.\n"
     ]
    },
    {
     "name": "stderr",
     "output_type": "stream",
     "text": [
      "Processing ECG files: 1040it [04:10,  4.01it/s]"
     ]
    },
    {
     "name": "stdout",
     "output_type": "stream",
     "text": [
      "Error processing file ../../../../Datasets/12-lead electrocardiogram database/ECGDataDenoised/MUSE_20180712_152022_92000.csv: Not enough beats to compute heart rate.\n"
     ]
    },
    {
     "name": "stderr",
     "output_type": "stream",
     "text": [
      "Processing ECG files: 1266it [05:13,  3.74it/s]"
     ]
    },
    {
     "name": "stdout",
     "output_type": "stream",
     "text": [
      "Error processing file ../../../../Datasets/12-lead electrocardiogram database/ECGDataDenoised/MUSE_20180712_152024_00000.csv: Not enough beats to compute heart rate.\n"
     ]
    },
    {
     "name": "stderr",
     "output_type": "stream",
     "text": [
      "Processing ECG files: 1276it [05:15,  3.89it/s]/home/denuvo-drm/miniconda3/envs/CompositeADLRecognition/lib/python3.10/site-packages/numpy/core/fromnumeric.py:3504: RuntimeWarning: Mean of empty slice.\n",
      "  return _methods._mean(a, axis=axis, dtype=dtype,\n",
      "/home/denuvo-drm/miniconda3/envs/CompositeADLRecognition/lib/python3.10/site-packages/numpy/core/_methods.py:129: RuntimeWarning: invalid value encountered in scalar divide\n",
      "  ret = ret.dtype.type(ret / rcount)\n",
      "Processing ECG files: 1303it [05:22,  4.17it/s]/home/denuvo-drm/miniconda3/envs/CompositeADLRecognition/lib/python3.10/site-packages/numpy/core/fromnumeric.py:3504: RuntimeWarning: Mean of empty slice.\n",
      "  return _methods._mean(a, axis=axis, dtype=dtype,\n",
      "/home/denuvo-drm/miniconda3/envs/CompositeADLRecognition/lib/python3.10/site-packages/numpy/core/_methods.py:129: RuntimeWarning: invalid value encountered in scalar divide\n",
      "  ret = ret.dtype.type(ret / rcount)\n",
      "Processing ECG files: 1332it [05:29,  4.30it/s]/home/denuvo-drm/miniconda3/envs/CompositeADLRecognition/lib/python3.10/site-packages/numpy/core/fromnumeric.py:3504: RuntimeWarning: Mean of empty slice.\n",
      "  return _methods._mean(a, axis=axis, dtype=dtype,\n",
      "/home/denuvo-drm/miniconda3/envs/CompositeADLRecognition/lib/python3.10/site-packages/numpy/core/_methods.py:129: RuntimeWarning: invalid value encountered in scalar divide\n",
      "  ret = ret.dtype.type(ret / rcount)\n",
      "Processing ECG files: 1350it [05:34,  4.01it/s]/home/denuvo-drm/miniconda3/envs/CompositeADLRecognition/lib/python3.10/site-packages/numpy/core/fromnumeric.py:3504: RuntimeWarning: Mean of empty slice.\n",
      "  return _methods._mean(a, axis=axis, dtype=dtype,\n",
      "/home/denuvo-drm/miniconda3/envs/CompositeADLRecognition/lib/python3.10/site-packages/numpy/core/_methods.py:129: RuntimeWarning: invalid value encountered in scalar divide\n",
      "  ret = ret.dtype.type(ret / rcount)\n",
      "Processing ECG files: 1716it [07:11,  4.05it/s]/home/denuvo-drm/miniconda3/envs/CompositeADLRecognition/lib/python3.10/site-packages/numpy/core/fromnumeric.py:3504: RuntimeWarning: Mean of empty slice.\n",
      "  return _methods._mean(a, axis=axis, dtype=dtype,\n",
      "/home/denuvo-drm/miniconda3/envs/CompositeADLRecognition/lib/python3.10/site-packages/numpy/core/_methods.py:129: RuntimeWarning: invalid value encountered in scalar divide\n",
      "  ret = ret.dtype.type(ret / rcount)\n",
      "Processing ECG files: 1789it [07:31,  3.40it/s]"
     ]
    },
    {
     "name": "stdout",
     "output_type": "stream",
     "text": [
      "Error processing file ../../../../Datasets/12-lead electrocardiogram database/ECGDataDenoised/MUSE_20180113_124215_52000.csv: The length of the input vector x must be greater than padlen, which is 2253.\n",
      "Error processing file ../../../../Datasets/12-lead electrocardiogram database/ECGDataDenoised/MUSE_20180113_124215_52000.csv: The length of the input vector x must be greater than padlen, which is 2253.\n",
      "Error processing file ../../../../Datasets/12-lead electrocardiogram database/ECGDataDenoised/MUSE_20180113_124215_52000.csv: The length of the input vector x must be greater than padlen, which is 2253.\n",
      "Error processing file ../../../../Datasets/12-lead electrocardiogram database/ECGDataDenoised/MUSE_20180113_124215_52000.csv: The length of the input vector x must be greater than padlen, which is 2253.\n",
      "Error processing file ../../../../Datasets/12-lead electrocardiogram database/ECGDataDenoised/MUSE_20180113_124215_52000.csv: The length of the input vector x must be greater than padlen, which is 2253.\n",
      "Error processing file ../../../../Datasets/12-lead electrocardiogram database/ECGDataDenoised/MUSE_20180113_124215_52000.csv: The length of the input vector x must be greater than padlen, which is 2253.\n",
      "Error processing file ../../../../Datasets/12-lead electrocardiogram database/ECGDataDenoised/MUSE_20180113_124215_52000.csv: The length of the input vector x must be greater than padlen, which is 2253.\n",
      "Error processing file ../../../../Datasets/12-lead electrocardiogram database/ECGDataDenoised/MUSE_20180113_124215_52000.csv: The length of the input vector x must be greater than padlen, which is 2253.\n",
      "Error processing file ../../../../Datasets/12-lead electrocardiogram database/ECGDataDenoised/MUSE_20180113_124215_52000.csv: The length of the input vector x must be greater than padlen, which is 2253.\n",
      "Error processing file ../../../../Datasets/12-lead electrocardiogram database/ECGDataDenoised/MUSE_20180113_124215_52000.csv: The length of the input vector x must be greater than padlen, which is 2253.\n",
      "Error processing file ../../../../Datasets/12-lead electrocardiogram database/ECGDataDenoised/MUSE_20180113_124215_52000.csv: The length of the input vector x must be greater than padlen, which is 2253.\n",
      "Error processing file ../../../../Datasets/12-lead electrocardiogram database/ECGDataDenoised/MUSE_20180113_124215_52000.csv: The length of the input vector x must be greater than padlen, which is 2253.\n"
     ]
    },
    {
     "name": "stderr",
     "output_type": "stream",
     "text": [
      "Processing ECG files: 1894it [07:57,  4.24it/s]/home/denuvo-drm/miniconda3/envs/CompositeADLRecognition/lib/python3.10/site-packages/numpy/core/fromnumeric.py:3504: RuntimeWarning: Mean of empty slice.\n",
      "  return _methods._mean(a, axis=axis, dtype=dtype,\n",
      "/home/denuvo-drm/miniconda3/envs/CompositeADLRecognition/lib/python3.10/site-packages/numpy/core/_methods.py:129: RuntimeWarning: invalid value encountered in scalar divide\n",
      "  ret = ret.dtype.type(ret / rcount)\n",
      "Processing ECG files: 2113it [08:55,  4.24it/s]"
     ]
    },
    {
     "name": "stdout",
     "output_type": "stream",
     "text": [
      "Error processing file ../../../../Datasets/12-lead electrocardiogram database/ECGDataDenoised/MUSE_20180120_121805_89000.csv: Not enough beats to compute heart rate.\n",
      "Error processing file ../../../../Datasets/12-lead electrocardiogram database/ECGDataDenoised/MUSE_20180120_121805_89000.csv: Not enough beats to compute heart rate.\n",
      "Error processing file ../../../../Datasets/12-lead electrocardiogram database/ECGDataDenoised/MUSE_20180120_121805_89000.csv: Not enough beats to compute heart rate.\n",
      "Error processing file ../../../../Datasets/12-lead electrocardiogram database/ECGDataDenoised/MUSE_20180120_121805_89000.csv: Not enough beats to compute heart rate.\n",
      "Error processing file ../../../../Datasets/12-lead electrocardiogram database/ECGDataDenoised/MUSE_20180120_121805_89000.csv: Not enough beats to compute heart rate.\n",
      "Error processing file ../../../../Datasets/12-lead electrocardiogram database/ECGDataDenoised/MUSE_20180120_121805_89000.csv: Not enough beats to compute heart rate.\n"
     ]
    },
    {
     "name": "stderr",
     "output_type": "stream",
     "text": [
      "Processing ECG files: 2114it [08:56,  3.54it/s]/home/denuvo-drm/miniconda3/envs/CompositeADLRecognition/lib/python3.10/site-packages/numpy/core/fromnumeric.py:3504: RuntimeWarning: Mean of empty slice.\n",
      "  return _methods._mean(a, axis=axis, dtype=dtype,\n",
      "/home/denuvo-drm/miniconda3/envs/CompositeADLRecognition/lib/python3.10/site-packages/numpy/core/_methods.py:129: RuntimeWarning: invalid value encountered in scalar divide\n",
      "  ret = ret.dtype.type(ret / rcount)\n",
      "Processing ECG files: 2208it [09:18,  4.20it/s]/home/denuvo-drm/miniconda3/envs/CompositeADLRecognition/lib/python3.10/site-packages/numpy/core/fromnumeric.py:3504: RuntimeWarning: Mean of empty slice.\n",
      "  return _methods._mean(a, axis=axis, dtype=dtype,\n",
      "/home/denuvo-drm/miniconda3/envs/CompositeADLRecognition/lib/python3.10/site-packages/numpy/core/_methods.py:129: RuntimeWarning: invalid value encountered in scalar divide\n",
      "  ret = ret.dtype.type(ret / rcount)\n",
      "Processing ECG files: 2305it [09:44,  4.17it/s]/home/denuvo-drm/miniconda3/envs/CompositeADLRecognition/lib/python3.10/site-packages/numpy/core/fromnumeric.py:3504: RuntimeWarning: Mean of empty slice.\n",
      "  return _methods._mean(a, axis=axis, dtype=dtype,\n",
      "/home/denuvo-drm/miniconda3/envs/CompositeADLRecognition/lib/python3.10/site-packages/numpy/core/_methods.py:129: RuntimeWarning: invalid value encountered in scalar divide\n",
      "  ret = ret.dtype.type(ret / rcount)\n",
      "Processing ECG files: 2826it [11:58,  2.68it/s]"
     ]
    },
    {
     "name": "stdout",
     "output_type": "stream",
     "text": [
      "Error processing file ../../../../Datasets/12-lead electrocardiogram database/ECGDataDenoised/MUSE_20180210_130454_71000.csv: Not enough beats to compute heart rate.\n",
      "Error processing file ../../../../Datasets/12-lead electrocardiogram database/ECGDataDenoised/MUSE_20180210_130454_71000.csv: Not enough beats to compute heart rate.\n",
      "Error processing file ../../../../Datasets/12-lead electrocardiogram database/ECGDataDenoised/MUSE_20180210_130454_71000.csv: Not enough beats to compute heart rate.\n"
     ]
    },
    {
     "name": "stderr",
     "output_type": "stream",
     "text": [
      "Processing ECG files: 3249it [13:43,  3.77it/s]/home/denuvo-drm/miniconda3/envs/CompositeADLRecognition/lib/python3.10/site-packages/numpy/core/fromnumeric.py:3504: RuntimeWarning: Mean of empty slice.\n",
      "  return _methods._mean(a, axis=axis, dtype=dtype,\n",
      "/home/denuvo-drm/miniconda3/envs/CompositeADLRecognition/lib/python3.10/site-packages/numpy/core/_methods.py:129: RuntimeWarning: invalid value encountered in scalar divide\n",
      "  ret = ret.dtype.type(ret / rcount)\n",
      "Processing ECG files: 3305it [13:56,  4.35it/s]/home/denuvo-drm/miniconda3/envs/CompositeADLRecognition/lib/python3.10/site-packages/numpy/core/fromnumeric.py:3504: RuntimeWarning: Mean of empty slice.\n",
      "  return _methods._mean(a, axis=axis, dtype=dtype,\n",
      "/home/denuvo-drm/miniconda3/envs/CompositeADLRecognition/lib/python3.10/site-packages/numpy/core/_methods.py:129: RuntimeWarning: invalid value encountered in scalar divide\n",
      "  ret = ret.dtype.type(ret / rcount)\n",
      "Processing ECG files: 4173it [17:24,  4.21it/s]"
     ]
    },
    {
     "name": "stdout",
     "output_type": "stream",
     "text": [
      "Error processing file ../../../../Datasets/12-lead electrocardiogram database/ECGDataDenoised/MUSE_20180113_181145_89000.csv: Not enough beats to compute heart rate.\n",
      "Error processing file ../../../../Datasets/12-lead electrocardiogram database/ECGDataDenoised/MUSE_20180113_181145_89000.csv: Not enough beats to compute heart rate.\n",
      "Error processing file ../../../../Datasets/12-lead electrocardiogram database/ECGDataDenoised/MUSE_20180113_181145_89000.csv: Not enough beats to compute heart rate.\n",
      "Error processing file ../../../../Datasets/12-lead electrocardiogram database/ECGDataDenoised/MUSE_20180113_181145_89000.csv: Not enough beats to compute heart rate.\n",
      "Error processing file ../../../../Datasets/12-lead electrocardiogram database/ECGDataDenoised/MUSE_20180113_181145_89000.csv: Not enough beats to compute heart rate.\n",
      "Error processing file ../../../../Datasets/12-lead electrocardiogram database/ECGDataDenoised/MUSE_20180113_181145_89000.csv: Not enough beats to compute heart rate.\n"
     ]
    },
    {
     "name": "stderr",
     "output_type": "stream",
     "text": [
      "Processing ECG files: 4332it [18:02,  4.16it/s]/home/denuvo-drm/miniconda3/envs/CompositeADLRecognition/lib/python3.10/site-packages/numpy/core/fromnumeric.py:3504: RuntimeWarning: Mean of empty slice.\n",
      "  return _methods._mean(a, axis=axis, dtype=dtype,\n",
      "/home/denuvo-drm/miniconda3/envs/CompositeADLRecognition/lib/python3.10/site-packages/numpy/core/_methods.py:129: RuntimeWarning: invalid value encountered in scalar divide\n",
      "  ret = ret.dtype.type(ret / rcount)\n",
      "Processing ECG files: 4867it [20:21,  3.89it/s]"
     ]
    },
    {
     "name": "stdout",
     "output_type": "stream",
     "text": [
      "Error processing file ../../../../Datasets/12-lead electrocardiogram database/ECGDataDenoised/MUSE_20180113_135649_61000.csv: Not enough beats to compute heart rate.\n"
     ]
    },
    {
     "name": "stderr",
     "output_type": "stream",
     "text": [
      "Processing ECG files: 4868it [20:21,  3.98it/s]\n"
     ]
    },
    {
     "ename": "KeyboardInterrupt",
     "evalue": "",
     "output_type": "error",
     "traceback": [
      "\u001B[0;31m---------------------------------------------------------------------------\u001B[0m",
      "\u001B[0;31mKeyboardInterrupt\u001B[0m                         Traceback (most recent call last)",
      "Cell \u001B[0;32mIn[2], line 159\u001B[0m\n\u001B[1;32m    144\u001B[0m rhythm_mapping \u001B[38;5;241m=\u001B[39m {\n\u001B[1;32m    145\u001B[0m     \u001B[38;5;124m'\u001B[39m\u001B[38;5;124mAFIB\u001B[39m\u001B[38;5;124m'\u001B[39m: \u001B[38;5;124m'\u001B[39m\u001B[38;5;124mAFIB\u001B[39m\u001B[38;5;124m'\u001B[39m,\n\u001B[1;32m    146\u001B[0m     \u001B[38;5;124m'\u001B[39m\u001B[38;5;124mAF\u001B[39m\u001B[38;5;124m'\u001B[39m: \u001B[38;5;124m'\u001B[39m\u001B[38;5;124mAFIB\u001B[39m\u001B[38;5;124m'\u001B[39m,\n\u001B[0;32m   (...)\u001B[0m\n\u001B[1;32m    155\u001B[0m     \u001B[38;5;124m'\u001B[39m\u001B[38;5;124mSA\u001B[39m\u001B[38;5;124m'\u001B[39m: \u001B[38;5;124m'\u001B[39m\u001B[38;5;124mSR\u001B[39m\u001B[38;5;124m'\u001B[39m\n\u001B[1;32m    156\u001B[0m }\n\u001B[1;32m    158\u001B[0m \u001B[38;5;66;03m# Extract features\u001B[39;00m\n\u001B[0;32m--> 159\u001B[0m X, y \u001B[38;5;241m=\u001B[39m \u001B[43mload_and_preprocess_data\u001B[49m\u001B[43m(\u001B[49m\u001B[43mecg_folder\u001B[49m\u001B[43m,\u001B[49m\u001B[43m \u001B[49m\u001B[43mdiagnostics_df\u001B[49m\u001B[43m,\u001B[49m\u001B[43m \u001B[49m\u001B[43mrhythm_mapping\u001B[49m\u001B[43m)\u001B[49m\n\u001B[1;32m    161\u001B[0m \u001B[38;5;66;03m# Train and evaluate model\u001B[39;00m\n\u001B[1;32m    162\u001B[0m model, report \u001B[38;5;241m=\u001B[39m train_and_evaluate(X, y)\n",
      "Cell \u001B[0;32mIn[2], line 22\u001B[0m, in \u001B[0;36mload_and_preprocess_data\u001B[0;34m(ecg_folder, diagnostics_df, rhythm_mapping)\u001B[0m\n\u001B[1;32m     19\u001B[0m \u001B[38;5;28;01mfor\u001B[39;00m lead_signal \u001B[38;5;129;01min\u001B[39;00m signal:\n\u001B[1;32m     20\u001B[0m     \u001B[38;5;28;01mtry\u001B[39;00m:\n\u001B[1;32m     21\u001B[0m         \u001B[38;5;66;03m# Extract features using BioSPPy\u001B[39;00m\n\u001B[0;32m---> 22\u001B[0m         out \u001B[38;5;241m=\u001B[39m \u001B[43mecg\u001B[49m\u001B[38;5;241;43m.\u001B[39;49m\u001B[43mecg\u001B[49m\u001B[43m(\u001B[49m\u001B[43msignal\u001B[49m\u001B[38;5;241;43m=\u001B[39;49m\u001B[43mlead_signal\u001B[49m\u001B[43m,\u001B[49m\u001B[43m \u001B[49m\u001B[43msampling_rate\u001B[49m\u001B[38;5;241;43m=\u001B[39;49m\u001B[38;5;241;43m500.0\u001B[39;49m\u001B[43m,\u001B[49m\u001B[43m \u001B[49m\u001B[43mshow\u001B[49m\u001B[38;5;241;43m=\u001B[39;49m\u001B[38;5;28;43;01mFalse\u001B[39;49;00m\u001B[43m)\u001B[49m\n\u001B[1;32m     24\u001B[0m         \u001B[38;5;66;03m# Extract relevant features\u001B[39;00m\n\u001B[1;32m     25\u001B[0m         features \u001B[38;5;241m=\u001B[39m {\n\u001B[1;32m     26\u001B[0m             \u001B[38;5;124m'\u001B[39m\u001B[38;5;124mheart_rate\u001B[39m\u001B[38;5;124m'\u001B[39m: np\u001B[38;5;241m.\u001B[39mmean(out[\u001B[38;5;124m'\u001B[39m\u001B[38;5;124mheart_rate\u001B[39m\u001B[38;5;124m'\u001B[39m]),\n\u001B[1;32m     27\u001B[0m             \u001B[38;5;124m'\u001B[39m\u001B[38;5;124mrpeaks_count\u001B[39m\u001B[38;5;124m'\u001B[39m: \u001B[38;5;28mlen\u001B[39m(out[\u001B[38;5;124m'\u001B[39m\u001B[38;5;124mrpeaks\u001B[39m\u001B[38;5;124m'\u001B[39m]),\n\u001B[1;32m     28\u001B[0m             \u001B[38;5;124m'\u001B[39m\u001B[38;5;124mtemplates_mean\u001B[39m\u001B[38;5;124m'\u001B[39m: np\u001B[38;5;241m.\u001B[39mmean(out[\u001B[38;5;124m'\u001B[39m\u001B[38;5;124mtemplates\u001B[39m\u001B[38;5;124m'\u001B[39m], axis\u001B[38;5;241m=\u001B[39m\u001B[38;5;241m0\u001B[39m),\n\u001B[1;32m     29\u001B[0m             \u001B[38;5;124m'\u001B[39m\u001B[38;5;124mtemplates_std\u001B[39m\u001B[38;5;124m'\u001B[39m: np\u001B[38;5;241m.\u001B[39mstd(out[\u001B[38;5;124m'\u001B[39m\u001B[38;5;124mtemplates\u001B[39m\u001B[38;5;124m'\u001B[39m], axis\u001B[38;5;241m=\u001B[39m\u001B[38;5;241m0\u001B[39m)\n\u001B[1;32m     30\u001B[0m         }\n",
      "File \u001B[0;32m~/miniconda3/envs/CompositeADLRecognition/lib/python3.10/site-packages/biosppy/signals/ecg.py:82\u001B[0m, in \u001B[0;36mecg\u001B[0;34m(signal, sampling_rate, units, path, show, interactive)\u001B[0m\n\u001B[1;32m     80\u001B[0m \u001B[38;5;66;03m# filter signal\u001B[39;00m\n\u001B[1;32m     81\u001B[0m order \u001B[38;5;241m=\u001B[39m \u001B[38;5;28mint\u001B[39m(\u001B[38;5;241m1.5\u001B[39m \u001B[38;5;241m*\u001B[39m sampling_rate)\n\u001B[0;32m---> 82\u001B[0m filtered, _, _ \u001B[38;5;241m=\u001B[39m \u001B[43mst\u001B[49m\u001B[38;5;241;43m.\u001B[39;49m\u001B[43mfilter_signal\u001B[49m\u001B[43m(\u001B[49m\n\u001B[1;32m     83\u001B[0m \u001B[43m    \u001B[49m\u001B[43msignal\u001B[49m\u001B[38;5;241;43m=\u001B[39;49m\u001B[43msignal\u001B[49m\u001B[43m,\u001B[49m\n\u001B[1;32m     84\u001B[0m \u001B[43m    \u001B[49m\u001B[43mftype\u001B[49m\u001B[38;5;241;43m=\u001B[39;49m\u001B[38;5;124;43m\"\u001B[39;49m\u001B[38;5;124;43mFIR\u001B[39;49m\u001B[38;5;124;43m\"\u001B[39;49m\u001B[43m,\u001B[49m\n\u001B[1;32m     85\u001B[0m \u001B[43m    \u001B[49m\u001B[43mband\u001B[49m\u001B[38;5;241;43m=\u001B[39;49m\u001B[38;5;124;43m\"\u001B[39;49m\u001B[38;5;124;43mbandpass\u001B[39;49m\u001B[38;5;124;43m\"\u001B[39;49m\u001B[43m,\u001B[49m\n\u001B[1;32m     86\u001B[0m \u001B[43m    \u001B[49m\u001B[43morder\u001B[49m\u001B[38;5;241;43m=\u001B[39;49m\u001B[43morder\u001B[49m\u001B[43m,\u001B[49m\n\u001B[1;32m     87\u001B[0m \u001B[43m    \u001B[49m\u001B[43mfrequency\u001B[49m\u001B[38;5;241;43m=\u001B[39;49m\u001B[43m[\u001B[49m\u001B[38;5;241;43m0.67\u001B[39;49m\u001B[43m,\u001B[49m\u001B[43m \u001B[49m\u001B[38;5;241;43m45\u001B[39;49m\u001B[43m]\u001B[49m\u001B[43m,\u001B[49m\n\u001B[1;32m     88\u001B[0m \u001B[43m    \u001B[49m\u001B[43msampling_rate\u001B[49m\u001B[38;5;241;43m=\u001B[39;49m\u001B[43msampling_rate\u001B[49m\u001B[43m,\u001B[49m\n\u001B[1;32m     89\u001B[0m \u001B[43m\u001B[49m\u001B[43m)\u001B[49m\n\u001B[1;32m     91\u001B[0m filtered \u001B[38;5;241m=\u001B[39m filtered \u001B[38;5;241m-\u001B[39m np\u001B[38;5;241m.\u001B[39mmean(filtered)  \u001B[38;5;66;03m# remove DC offset\u001B[39;00m\n\u001B[1;32m     93\u001B[0m \u001B[38;5;66;03m# segment\u001B[39;00m\n",
      "File \u001B[0;32m~/miniconda3/envs/CompositeADLRecognition/lib/python3.10/site-packages/biosppy/signals/tools.py:436\u001B[0m, in \u001B[0;36mfilter_signal\u001B[0;34m(signal, ftype, band, order, frequency, sampling_rate, **kwargs)\u001B[0m\n\u001B[1;32m    426\u001B[0m b, a \u001B[38;5;241m=\u001B[39m get_filter(\n\u001B[1;32m    427\u001B[0m     ftype\u001B[38;5;241m=\u001B[39mftype,\n\u001B[1;32m    428\u001B[0m     order\u001B[38;5;241m=\u001B[39morder,\n\u001B[0;32m   (...)\u001B[0m\n\u001B[1;32m    432\u001B[0m     \u001B[38;5;241m*\u001B[39m\u001B[38;5;241m*\u001B[39mkwargs\n\u001B[1;32m    433\u001B[0m )\n\u001B[1;32m    435\u001B[0m \u001B[38;5;66;03m# filter\u001B[39;00m\n\u001B[0;32m--> 436\u001B[0m filtered, _ \u001B[38;5;241m=\u001B[39m \u001B[43m_filter_signal\u001B[49m\u001B[43m(\u001B[49m\u001B[43mb\u001B[49m\u001B[43m,\u001B[49m\u001B[43m \u001B[49m\u001B[43ma\u001B[49m\u001B[43m,\u001B[49m\u001B[43m \u001B[49m\u001B[43msignal\u001B[49m\u001B[43m,\u001B[49m\u001B[43m \u001B[49m\u001B[43mcheck_phase\u001B[49m\u001B[38;5;241;43m=\u001B[39;49m\u001B[38;5;28;43;01mTrue\u001B[39;49;00m\u001B[43m)\u001B[49m\n\u001B[1;32m    438\u001B[0m \u001B[38;5;66;03m# parameters for notch filter\u001B[39;00m\n\u001B[1;32m    439\u001B[0m \u001B[38;5;28;01mif\u001B[39;00m ftype \u001B[38;5;241m==\u001B[39m \u001B[38;5;124m\"\u001B[39m\u001B[38;5;124mnotch\u001B[39m\u001B[38;5;124m\"\u001B[39m:\n",
      "File \u001B[0;32m~/miniconda3/envs/CompositeADLRecognition/lib/python3.10/site-packages/biosppy/signals/tools.py:135\u001B[0m, in \u001B[0;36m_filter_signal\u001B[0;34m(b, a, signal, zi, check_phase, **kwargs)\u001B[0m\n\u001B[1;32m    133\u001B[0m zf \u001B[38;5;241m=\u001B[39m \u001B[38;5;28;01mNone\u001B[39;00m\n\u001B[1;32m    134\u001B[0m \u001B[38;5;28;01mif\u001B[39;00m check_phase:\n\u001B[0;32m--> 135\u001B[0m     filtered \u001B[38;5;241m=\u001B[39m \u001B[43mss\u001B[49m\u001B[38;5;241;43m.\u001B[39;49m\u001B[43mfiltfilt\u001B[49m\u001B[43m(\u001B[49m\u001B[43mb\u001B[49m\u001B[43m,\u001B[49m\u001B[43m \u001B[49m\u001B[43ma\u001B[49m\u001B[43m,\u001B[49m\u001B[43m \u001B[49m\u001B[43msignal\u001B[49m\u001B[43m,\u001B[49m\u001B[43m \u001B[49m\u001B[38;5;241;43m*\u001B[39;49m\u001B[38;5;241;43m*\u001B[39;49m\u001B[43mkwargs\u001B[49m\u001B[43m)\u001B[49m\n\u001B[1;32m    136\u001B[0m \u001B[38;5;28;01melse\u001B[39;00m:\n\u001B[1;32m    137\u001B[0m     filtered \u001B[38;5;241m=\u001B[39m ss\u001B[38;5;241m.\u001B[39mlfilter(b, a, signal, \u001B[38;5;241m*\u001B[39m\u001B[38;5;241m*\u001B[39mkwargs)\n",
      "File \u001B[0;32m~/miniconda3/envs/CompositeADLRecognition/lib/python3.10/site-packages/scipy/signal/_signaltools.py:4202\u001B[0m, in \u001B[0;36mfiltfilt\u001B[0;34m(b, a, x, axis, padtype, padlen, method, irlen)\u001B[0m\n\u001B[1;32m   4198\u001B[0m edge, ext \u001B[38;5;241m=\u001B[39m _validate_pad(padtype, padlen, x, axis,\n\u001B[1;32m   4199\u001B[0m                           ntaps\u001B[38;5;241m=\u001B[39m\u001B[38;5;28mmax\u001B[39m(\u001B[38;5;28mlen\u001B[39m(a), \u001B[38;5;28mlen\u001B[39m(b)))\n\u001B[1;32m   4201\u001B[0m \u001B[38;5;66;03m# Get the steady state of the filter's step response.\u001B[39;00m\n\u001B[0;32m-> 4202\u001B[0m zi \u001B[38;5;241m=\u001B[39m \u001B[43mlfilter_zi\u001B[49m\u001B[43m(\u001B[49m\u001B[43mb\u001B[49m\u001B[43m,\u001B[49m\u001B[43m \u001B[49m\u001B[43ma\u001B[49m\u001B[43m)\u001B[49m\n\u001B[1;32m   4204\u001B[0m \u001B[38;5;66;03m# Reshape zi and create x0 so that zi*x0 broadcasts\u001B[39;00m\n\u001B[1;32m   4205\u001B[0m \u001B[38;5;66;03m# to the correct value for the 'zi' keyword argument\u001B[39;00m\n\u001B[1;32m   4206\u001B[0m \u001B[38;5;66;03m# to lfilter.\u001B[39;00m\n\u001B[1;32m   4207\u001B[0m zi_shape \u001B[38;5;241m=\u001B[39m [\u001B[38;5;241m1\u001B[39m] \u001B[38;5;241m*\u001B[39m x\u001B[38;5;241m.\u001B[39mndim\n",
      "File \u001B[0;32m~/miniconda3/envs/CompositeADLRecognition/lib/python3.10/site-packages/scipy/signal/_signaltools.py:3756\u001B[0m, in \u001B[0;36mlfilter_zi\u001B[0;34m(b, a)\u001B[0m\n\u001B[1;32m   3754\u001B[0m B \u001B[38;5;241m=\u001B[39m b[\u001B[38;5;241m1\u001B[39m:] \u001B[38;5;241m-\u001B[39m a[\u001B[38;5;241m1\u001B[39m:] \u001B[38;5;241m*\u001B[39m b[\u001B[38;5;241m0\u001B[39m]\n\u001B[1;32m   3755\u001B[0m \u001B[38;5;66;03m# Solve zi = A*zi + B\u001B[39;00m\n\u001B[0;32m-> 3756\u001B[0m zi \u001B[38;5;241m=\u001B[39m \u001B[43mnp\u001B[49m\u001B[38;5;241;43m.\u001B[39;49m\u001B[43mlinalg\u001B[49m\u001B[38;5;241;43m.\u001B[39;49m\u001B[43msolve\u001B[49m\u001B[43m(\u001B[49m\u001B[43mIminusA\u001B[49m\u001B[43m,\u001B[49m\u001B[43m \u001B[49m\u001B[43mB\u001B[49m\u001B[43m)\u001B[49m\n\u001B[1;32m   3758\u001B[0m \u001B[38;5;66;03m# For future reference: we could also use the following\u001B[39;00m\n\u001B[1;32m   3759\u001B[0m \u001B[38;5;66;03m# explicit formulas to solve the linear system:\u001B[39;00m\n\u001B[1;32m   3760\u001B[0m \u001B[38;5;66;03m#\u001B[39;00m\n\u001B[0;32m   (...)\u001B[0m\n\u001B[1;32m   3767\u001B[0m \u001B[38;5;66;03m#     csum += b[k] - a[k]*b[0]\u001B[39;00m\n\u001B[1;32m   3768\u001B[0m \u001B[38;5;66;03m#     zi[k] = asum*zi[0] - csum\u001B[39;00m\n\u001B[1;32m   3770\u001B[0m \u001B[38;5;28;01mreturn\u001B[39;00m zi\n",
      "File \u001B[0;32m~/miniconda3/envs/CompositeADLRecognition/lib/python3.10/site-packages/numpy/linalg/linalg.py:409\u001B[0m, in \u001B[0;36msolve\u001B[0;34m(a, b)\u001B[0m\n\u001B[1;32m    407\u001B[0m signature \u001B[38;5;241m=\u001B[39m \u001B[38;5;124m'\u001B[39m\u001B[38;5;124mDD->D\u001B[39m\u001B[38;5;124m'\u001B[39m \u001B[38;5;28;01mif\u001B[39;00m isComplexType(t) \u001B[38;5;28;01melse\u001B[39;00m \u001B[38;5;124m'\u001B[39m\u001B[38;5;124mdd->d\u001B[39m\u001B[38;5;124m'\u001B[39m\n\u001B[1;32m    408\u001B[0m extobj \u001B[38;5;241m=\u001B[39m get_linalg_error_extobj(_raise_linalgerror_singular)\n\u001B[0;32m--> 409\u001B[0m r \u001B[38;5;241m=\u001B[39m \u001B[43mgufunc\u001B[49m\u001B[43m(\u001B[49m\u001B[43ma\u001B[49m\u001B[43m,\u001B[49m\u001B[43m \u001B[49m\u001B[43mb\u001B[49m\u001B[43m,\u001B[49m\u001B[43m \u001B[49m\u001B[43msignature\u001B[49m\u001B[38;5;241;43m=\u001B[39;49m\u001B[43msignature\u001B[49m\u001B[43m,\u001B[49m\u001B[43m \u001B[49m\u001B[43mextobj\u001B[49m\u001B[38;5;241;43m=\u001B[39;49m\u001B[43mextobj\u001B[49m\u001B[43m)\u001B[49m\n\u001B[1;32m    411\u001B[0m \u001B[38;5;28;01mreturn\u001B[39;00m wrap(r\u001B[38;5;241m.\u001B[39mastype(result_t, copy\u001B[38;5;241m=\u001B[39m\u001B[38;5;28;01mFalse\u001B[39;00m))\n",
      "\u001B[0;31mKeyboardInterrupt\u001B[0m: "
     ]
    }
   ],
   "execution_count": 2
  }
 ],
 "metadata": {
  "kernelspec": {
   "display_name": "Python 3",
   "language": "python",
   "name": "python3"
  },
  "language_info": {
   "codemirror_mode": {
    "name": "ipython",
    "version": 2
   },
   "file_extension": ".py",
   "mimetype": "text/x-python",
   "name": "python",
   "nbconvert_exporter": "python",
   "pygments_lexer": "ipython2",
   "version": "2.7.6"
  }
 },
 "nbformat": 4,
 "nbformat_minor": 5
}
