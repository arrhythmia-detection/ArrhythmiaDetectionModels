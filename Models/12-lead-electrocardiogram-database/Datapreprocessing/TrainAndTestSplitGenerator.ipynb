{
 "cells": [
  {
   "cell_type": "code",
   "id": "initial_id",
   "metadata": {
    "collapsed": true,
    "ExecuteTime": {
     "end_time": "2024-11-08T09:55:44.305557Z",
     "start_time": "2024-11-08T09:55:42.872390Z"
    }
   },
   "source": [
    "import os\n",
    "import numpy as np\n",
    "import pandas as pd\n",
    "from sklearn.model_selection import train_test_split\n",
    "from sklearn.preprocessing import StandardScaler\n",
    "\n",
    "# Defining file path\n",
    "ecg_folder = \"../../../Datasets/12-lead electrocardiogram database/ECGDataDenoised\"\n",
    "attributes_file = \"../../../Datasets/12-lead electrocardiogram database/AttributesDictionary.xlsx\"\n",
    "diagnostics_file = \"../../../Datasets/12-lead electrocardiogram database/Diagnostics.xlsx\"\n",
    "rhythm_names_file = \"../../../Datasets/12-lead electrocardiogram database/RhythmNames.xlsx\"\n",
    "\n",
    "# Checking for missing files and stuff\n",
    "for file_path in [attributes_file, diagnostics_file, rhythm_names_file]:\n",
    "    if not os.path.exists(file_path):\n",
    "        raise FileNotFoundError(f\"Required file not found: {file_path}\")\n",
    "\n",
    "# Loading metadata\n",
    "attributes_df = pd.read_excel(attributes_file)\n",
    "diagnostics_df = pd.read_excel(diagnostics_file)\n",
    "rhythm_names_df = pd.read_excel(rhythm_names_file)\n",
    "\n",
    "# Removing trailing spaces in acronym columns for accurate matching\n",
    "rhythm_names_df['Acronym Name'] = rhythm_names_df['Acronym Name'].str.strip()\n",
    "\n",
    "# Creating sets of valid acronyms for rhythm\n",
    "valid_rhythms = set(rhythm_names_df['Acronym Name'])\n",
    "print(valid_rhythms)"
   ],
   "outputs": [
    {
     "name": "stdout",
     "output_type": "stream",
     "text": [
      "{'AVNRT', 'AF', 'AT', 'SVT', 'SR', 'SI', 'SB', 'AFIB', 'SAAWR', 'AVRT', 'ST'}\n"
     ]
    }
   ],
   "execution_count": 1
  },
  {
   "metadata": {
    "ExecuteTime": {
     "end_time": "2024-11-08T09:56:44.428250Z",
     "start_time": "2024-11-08T09:55:46.660955Z"
    }
   },
   "cell_type": "code",
   "source": [
    "# Load ECG data\n",
    "def load_ecg_data(ecg_folder, diagnostics_df):\n",
    "    data = []\n",
    "    labels = []\n",
    "    metadata = []\n",
    "\n",
    "    # Check if the folder exists\n",
    "    if not os.path.exists(ecg_folder):\n",
    "        raise FileNotFoundError(f\"ECG data folder not found: {ecg_folder}\")\n",
    "\n",
    "    for file_name in os.listdir(ecg_folder):\n",
    "        if file_name.endswith('.csv'):\n",
    "            # Read ECG data\n",
    "            ecg_data = pd.read_csv(os.path.join(ecg_folder, file_name), header=None)\n",
    "            ecg_data = ecg_data.to_numpy()  # Convert to numpy array\n",
    "\n",
    "            # Retrieve associated label and metadata\n",
    "            record_id = file_name.replace('.csv', '')\n",
    "            record_info = diagnostics_df[diagnostics_df['FileName'] == record_id]\n",
    "\n",
    "            # Skip if no label information is available\n",
    "            if record_info.empty:\n",
    "                raise ValueError(f\"No diagnostic information found for file: {file_name}\")\n",
    "\n",
    "            # Get rhythm and condition acronyms directly\n",
    "            rhythm_acronym = record_info['Rhythm'].values[0].strip()\n",
    "\n",
    "            # The author of the dataset seems like did an oopsie\n",
    "            if rhythm_acronym == \"SA\":\n",
    "                rhythm_acronym = \"SI\"\n",
    "                \n",
    "            # Validate rhythm and condition acronyms\n",
    "            if rhythm_acronym not in valid_rhythms:\n",
    "                raise ValueError(f\"Unknown rhythm acronym '{rhythm_acronym}' found in file: {file_name}\")\n",
    "\n",
    "            # Set label as rhythm acronym (or use condition acronym if preferred)\n",
    "            label = rhythm_acronym  # Use rhythm acronym as label\n",
    "\n",
    "            # Additional metadata\n",
    "            patient_age = record_info[\"PatientAge\"].values[0]\n",
    "            ventricular_rate = record_info[\"VentricularRate\"].values[0]\n",
    "            atrial_rate = record_info[\"AtrialRate\"].values[0]\n",
    "\n",
    "            data.append(ecg_data)\n",
    "            labels.append(label)\n",
    "            metadata.append({\n",
    "                \"patient_age\": patient_age,\n",
    "                \"ventricular_rate\": ventricular_rate,\n",
    "                \"atrial_rate\": atrial_rate\n",
    "            })\n",
    "\n",
    "    return data, np.array(labels), metadata\n",
    "\n",
    "\n",
    "# Load ECG data and labels\n",
    "ecg_data, ecg_labels, ecg_metadata = load_ecg_data(ecg_folder, diagnostics_df)\n",
    "\n",
    "# Standardize each ECG signal individually\n",
    "scaler = StandardScaler()\n",
    "ecg_data = [scaler.fit_transform(sample) for sample in ecg_data]\n",
    "\n",
    "# Define a fixed sequence length (pad or truncate to this length)\n",
    "sequence_length = 5000  # Adjust as per dataset requirements\n",
    "\n",
    "\n",
    "# Function to pad or truncate each ECG signal to a fixed length\n",
    "def preprocess_sequence(data, length):\n",
    "    processed_data = []\n",
    "    for sample in data:\n",
    "        if sample.shape[0] > length:\n",
    "            processed_data.append(sample[:length])\n",
    "        else:\n",
    "            pad_width = length - sample.shape[0]\n",
    "            processed_data.append(np.pad(sample, ((0, pad_width), (0, 0)), mode=\"constant\"))\n",
    "    return np.array(processed_data)\n",
    "\n",
    "\n",
    "# initiating\n",
    "ecg_data = preprocess_sequence(ecg_data, sequence_length)"
   ],
   "id": "785f69cc844858cc",
   "outputs": [],
   "execution_count": 2
  },
  {
   "metadata": {
    "ExecuteTime": {
     "end_time": "2024-11-08T09:57:48.982828Z",
     "start_time": "2024-11-08T09:57:44.461730Z"
    }
   },
   "cell_type": "code",
   "source": [
    "from collections import Counter\n",
    "\n",
    "# Filter out classes with fewer than 2 instances\n",
    "label_counts = Counter(ecg_labels)\n",
    "print(label_counts)\n",
    "filtered_indices = [i for i, label in enumerate(ecg_labels) if label_counts[label] > 1]\n",
    "filtered_ecg_data = ecg_data[filtered_indices]\n",
    "filtered_ecg_labels = ecg_labels[filtered_indices]\n",
    "\n",
    "# Train-test split with filtered data\n",
    "X_train, X_test, y_train, y_test = train_test_split(filtered_ecg_data, filtered_ecg_labels, test_size=0.2,\n",
    "                                                    random_state=42, stratify=filtered_ecg_labels)\n",
    "\n",
    "# Verify shapes and data summary\n",
    "print(\"Training data shape:\", X_train.shape)\n",
    "print(\"Testing data shape:\", X_test.shape)\n",
    "print(\"Training labels shape:\", y_train.shape)\n",
    "print(\"Testing labels shape:\", y_test.shape)\n",
    "print(\"Metadata example:\", ecg_metadata[0])\n"
   ],
   "id": "e18d5f576a208cc7",
   "outputs": [
    {
     "name": "stdout",
     "output_type": "stream",
     "text": [
      "Counter({'SB': 3889, 'SR': 1826, 'AFIB': 1780, 'ST': 1568, 'SVT': 587, 'AF': 445, 'SI': 399, 'AT': 121, 'AVNRT': 16, 'AVRT': 8, 'SAAWR': 7})\n",
      "Training data shape: (8516, 5000, 12)\n",
      "Testing data shape: (2130, 5000, 12)\n",
      "Training labels shape: (8516,)\n",
      "Testing labels shape: (2130,)\n",
      "Metadata example: {'patient_age': 82, 'ventricular_rate': 143, 'atrial_rate': 144}\n"
     ]
    }
   ],
   "execution_count": 4
  },
  {
   "metadata": {},
   "cell_type": "code",
   "outputs": [],
   "execution_count": null,
   "source": "",
   "id": "ba2df6f8deb87b2"
  }
 ],
 "metadata": {
  "kernelspec": {
   "display_name": "Python 3",
   "language": "python",
   "name": "python3"
  },
  "language_info": {
   "codemirror_mode": {
    "name": "ipython",
    "version": 2
   },
   "file_extension": ".py",
   "mimetype": "text/x-python",
   "name": "python",
   "nbconvert_exporter": "python",
   "pygments_lexer": "ipython2",
   "version": "2.7.6"
  }
 },
 "nbformat": 4,
 "nbformat_minor": 5
}
