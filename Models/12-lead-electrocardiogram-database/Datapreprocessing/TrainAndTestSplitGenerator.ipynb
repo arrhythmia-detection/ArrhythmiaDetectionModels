{
 "cells": [
  {
   "cell_type": "code",
   "id": "initial_id",
   "metadata": {
    "collapsed": true,
    "ExecuteTime": {
     "end_time": "2024-11-07T21:17:52.755092Z",
     "start_time": "2024-11-07T21:17:51.695696Z"
    }
   },
   "source": [
    "import os\n",
    "import numpy as np\n",
    "import pandas as pd\n",
    "from sklearn.model_selection import train_test_split\n",
    "from sklearn.preprocessing import StandardScaler\n",
    "from collections import Counter\n",
    "\n",
    "# Defining file path\n",
    "ecg_folder = \"../../../Datasets/12-lead electrocardiogram database/ECGDataDenoised\"\n",
    "attributes_file = \"../../../Datasets/12-lead electrocardiogram database/AttributesDictionary.xlsx\"\n",
    "condition_names_file = \"../../../Datasets/12-lead electrocardiogram database/ConditionNames.xlsx\"\n",
    "diagnostics_file = \"../../../Datasets/12-lead electrocardiogram database/Diagnostics.xlsx\"\n",
    "rhythm_names_file = \"../../../Datasets/12-lead electrocardiogram database/RhythmNames.xlsx\"\n",
    "\n",
    "# Loading metadata files\n",
    "attributes_df = pd.read_excel(attributes_file)\n",
    "condition_names_df = pd.read_excel(condition_names_file)\n",
    "condition_names_df[\"Acronym Name\"] = condition_names_df[\"Acronym Name\"].str.strip()\n",
    "diagnostics_df = pd.read_excel(diagnostics_file)\n",
    "diagnostics_df[\"Rhythm\"] = diagnostics_df[\"Rhythm\"].str.strip()\n",
    "rhythm_names_df = pd.read_excel(rhythm_names_file)\n",
    "# Getting of the extra space which causes issue\n",
    "rhythm_names_df[\"Acronym Name\"] = rhythm_names_df[\"Acronym Name\"].str.strip()\n",
    "\n",
    "# Mapping acronyms to full names for condition and rhythm\n",
    "condition_names = condition_names_df.set_index(\"Acronym Name\")[\"Full Name\"].to_dict()\n",
    "rhythm_names = rhythm_names_df.set_index(\"Acronym Name\")[\"Full Name\"].to_dict()\n",
    "print(condition_names)\n",
    "print(rhythm_names)\n",
    "\n",
    "\n",
    "# Mapping diagnostics to add full names of conditions and rhythms\n",
    "diagnostics_df[\"RhythmFullName\"] = diagnostics_df[\"Rhythm\"].map(rhythm_names)\n",
    "diagnostics_df[\"ConditionFullName\"] = diagnostics_df[\"Beat\"].map(condition_names)\n",
    "diagnostics_df[\"RhythmFullName\"]"
   ],
   "outputs": [
    {
     "name": "stdout",
     "output_type": "stream",
     "text": [
      "{'1AVB': '1 degree atrioventricular block', '2AVB': '2 degree atrioventricular block', '2AVB1': '2 degree atrioventricular block(Type one)', '2AVB2': '2 degree atrioventricular block(Type two)', '3AVB': '3 degree atrioventricular block', 'ABI': 'atrial bigeminy', 'ALS': 'Axis left shift', 'APB': 'atrial\\xa0premature\\xa0beats', 'AQW': 'abnormal Q wave', 'ARS': 'Axis right shift', 'AVB': 'atrioventricular block', 'CCR': 'countercolockwise rotation', 'CR': 'colockwise rotation', 'ERV': 'Early repolarization of the ventricles', 'FQRS': 'fQRS Wave', 'IDC': 'Interior differences conduction', 'IVB': 'Intraventricular block', 'JEB': 'junctional escape beat', 'JPS': 'J point shift', 'JPT': 'junctional premature beat', 'LBBB': 'left bundle branch block', 'LBBBB': 'left back bundle branch block', 'LFBBB': 'left front bundle branch block', 'LRRI': 'Long RR interval', 'LVH': 'left ventricle hypertrophy', 'LVHV': 'left ventricle high voltage', 'LVQRSAL': 'lower voltage QRS in all lead', 'LVQRSCL': 'lower voltage QRS in chest lead', 'LVQRSLL': 'lower voltage QRS in limb lead', 'MI': 'myocardial infarction', 'MIBW': 'myocardial infraction in back wall', 'MIFW': 'Myocardial infgraction in the front wall', 'MILW': 'Myocardial infraction in the lower wall', 'MISW': 'Myocardial infraction in the side wall', 'PRIE': 'PR interval extension', 'PWC': 'P wave Change', 'QTIE': 'QT interval extension', 'RAH': 'right atrial hypertrophy', 'RAHV': 'right atrial high voltage', 'RBBB': 'right bundle branch block', 'RVH': 'right ventricle hypertrophy', 'STDD': 'ST drop down', 'STE': 'ST extension', 'STTC': 'ST-T Change', 'STTU': 'ST tilt up', 'TWC': 'T wave Change', 'TWO': 'T wave opposite', 'UW': 'U wave', 'VB': 'ventricular bigeminy', 'VEB': 'ventricular escape beat', 'VFW': 'ventricular fusion wave', 'VPB': 'ventricular premature beat', 'VPE': 'ventricular preexcitation', 'VET': 'ventricular escape trigeminy', 'WAVN': 'Wandering in the atrioventricalualr node', 'WPW': 'WPW'}\n",
      "{'SB': 'Sinus Bradycardia', 'SR': 'Sinus Rhythm', 'AFIB': 'Atrial Fibrillation', 'ST': 'Sinus Tachycardia', 'AF': 'Atrial Flutter', 'SI': 'Sinus Irregularity', 'SVT': 'Supraventricular Tachycardia', 'AT': 'Atrial Tachycardia', 'AVNRT': 'Atrioventricular  Node Reentrant Tachycardia', 'AVRT': 'Atrioventricular Reentrant Tachycardia', 'SAAWR': 'Sinus Atrium to Atrial Wandering Rhythm'}\n"
     ]
    },
    {
     "data": {
      "text/plain": [
       "0                 Atrial Fibrillation\n",
       "1                   Sinus Bradycardia\n",
       "2                                 NaN\n",
       "3                   Sinus Bradycardia\n",
       "4                      Atrial Flutter\n",
       "                     ...             \n",
       "10641    Supraventricular Tachycardia\n",
       "10642    Supraventricular Tachycardia\n",
       "10643    Supraventricular Tachycardia\n",
       "10644    Supraventricular Tachycardia\n",
       "10645    Supraventricular Tachycardia\n",
       "Name: RhythmFullName, Length: 10646, dtype: object"
      ]
     },
     "execution_count": 4,
     "metadata": {},
     "output_type": "execute_result"
    }
   ],
   "execution_count": 4
  },
  {
   "metadata": {
    "ExecuteTime": {
     "end_time": "2024-11-07T20:52:13.820075Z",
     "start_time": "2024-11-07T20:51:10.825227Z"
    }
   },
   "cell_type": "code",
   "source": [
    "# Function to Load ECG data\n",
    "def load_ecg_data(ecg_folder, diagnostics_df):\n",
    "    data = []\n",
    "    labels = []\n",
    "    metadata = []\n",
    "\n",
    "    for file_name in os.listdir(ecg_folder):\n",
    "        if file_name.endswith('.csv'):\n",
    "            ecg_data = pd.read_csv(os.path.join(ecg_folder, file_name), header=None)\n",
    "            ecg_data = ecg_data.to_numpy()  # Convert to numpy array\n",
    "\n",
    "            # Retrieve associated label and metadata\n",
    "            record_id = file_name.replace('.csv', '')\n",
    "            record_info = diagnostics_df[diagnostics_df['FileName'] == record_id]\n",
    "\n",
    "            # Skip if no label information is available\n",
    "            if record_info.empty:\n",
    "                continue\n",
    "\n",
    "            # Use rhythm as primary label, fallback to beat if unavailable\n",
    "            rhythm_label = record_info['RhythmFullName'].values[0]\n",
    "            condition_label = record_info['ConditionFullName'].values[0]\n",
    "            label = rhythm_label if pd.notna(rhythm_label) else condition_label\n",
    "\n",
    "            # Additional metadata\n",
    "            patient_age = record_info['PatientAge'].values[0]\n",
    "            ventricular_rate = record_info['VentricularRate'].values[0]\n",
    "            atrial_rate = record_info['AtrialRate'].values[0]\n",
    "\n",
    "            # Append data, label, and metadata\n",
    "            data.append(ecg_data)\n",
    "            labels.append(label)\n",
    "            metadata.append({\n",
    "                'patient_age': patient_age,\n",
    "                'ventricular_rate': ventricular_rate,\n",
    "                'atrial_rate': atrial_rate\n",
    "            })\n",
    "\n",
    "    return data, np.array(labels), metadata\n",
    "\n",
    "# Load ECG data and labels\n",
    "ecg_data, ecg_labels, ecg_metadata = load_ecg_data(ecg_folder, diagnostics_df)\n",
    "\n",
    "# Standardize each ECG signal individually\n",
    "scaler = StandardScaler()\n",
    "ecg_data = [scaler.fit_transform(sample) for sample in ecg_data]\n",
    "\n",
    "# Define a fixed sequence length (pad or truncate to this length)\n",
    "sequence_length = 5000  # Adjust as per dataset requirements\n",
    "\n",
    "# Function to pad or truncate each ECG signal to a fixed length\n",
    "def preprocess_sequence(data, length):\n",
    "    processed_data = []\n",
    "    for sample in data:\n",
    "        if sample.shape[0] > length:\n",
    "            processed_data.append(sample[:length])\n",
    "        else:\n",
    "            pad_width = length - sample.shape[0]\n",
    "            processed_data.append(np.pad(sample, ((0, pad_width), (0, 0)), mode='constant'))\n",
    "    return np.array(processed_data)\n",
    "\n",
    "# Preprocess ECG data sequences\n",
    "ecg_data = preprocess_sequence(ecg_data, sequence_length)\n",
    "\n",
    "# Count instances per class\n",
    "label_counts = Counter(ecg_labels)\n",
    "print(\"Label counts before filtering:\", label_counts)\n",
    "\n",
    "# Filter out classes with fewer than 2 instances\n",
    "filtered_indices = [i for i, label in enumerate(ecg_labels) if label_counts[label] > 1]\n",
    "filtered_ecg_data = ecg_data[filtered_indices]\n",
    "filtered_ecg_labels = ecg_labels[filtered_indices]\n",
    "\n",
    "# Print new counts after filtering\n",
    "filtered_label_counts = Counter(filtered_ecg_labels)\n",
    "print(\"Label counts after filtering:\", filtered_label_counts)\n",
    "\n",
    "# Train-test split with filtered data\n",
    "X_train, X_test, y_train, y_test = train_test_split(filtered_ecg_data, filtered_ecg_labels, test_size=0.2, random_state=42, stratify=filtered_ecg_labels)\n",
    "\n",
    "# Verify shapes and data summary\n",
    "print(\"Training data shape:\", X_train.shape)\n",
    "print(\"Testing data shape:\", X_test.shape)\n",
    "print(\"Training labels shape:\", y_train.shape)\n",
    "print(\"Testing labels shape:\", y_test.shape)\n"
   ],
   "id": "785f69cc844858cc",
   "outputs": [
    {
     "name": "stdout",
     "output_type": "stream",
     "text": [
      "Label counts before filtering: Counter({'Sinus Bradycardia': 3889, 'Sinus Rhythm': 1826, 'Atrial Fibrillation': 1780, 'Sinus Tachycardia': 1568, 'Supraventricular Tachycardia': 587, 'Atrial Flutter': 445, 'nan': 321, 'Atrial Tachycardia': 121, 'Atrioventricular  Node Reentrant Tachycardia': 16, 'T wave Change': 16, 'ventricular premature beat': 11, 'atrial\\xa0premature\\xa0beats': 10, 'left ventricle high voltage': 9, 'Atrioventricular Reentrant Tachycardia': 8, 'ST-T Change': 7, 'Sinus Atrium to Atrial Wandering Rhythm': 7, 'Axis right shift': 5, 'right bundle branch block': 5, 'ST tilt up': 4, '1 degree atrioventricular block': 3, 'lower voltage QRS in chest lead': 2, 'ventricular preexcitation': 1, 'Wandering in the atrioventricalualr node': 1, 'ST drop down': 1, 'WPW': 1, 'Axis left shift': 1, 'Intraventricular block': 1})\n",
      "Label counts after filtering: Counter({'Sinus Bradycardia': 3889, 'Sinus Rhythm': 1826, 'Atrial Fibrillation': 1780, 'Sinus Tachycardia': 1568, 'Supraventricular Tachycardia': 587, 'Atrial Flutter': 445, 'nan': 321, 'Atrial Tachycardia': 121, 'Atrioventricular  Node Reentrant Tachycardia': 16, 'T wave Change': 16, 'ventricular premature beat': 11, 'atrial\\xa0premature\\xa0beats': 10, 'left ventricle high voltage': 9, 'Atrioventricular Reentrant Tachycardia': 8, 'ST-T Change': 7, 'Sinus Atrium to Atrial Wandering Rhythm': 7, 'Axis right shift': 5, 'right bundle branch block': 5, 'ST tilt up': 4, '1 degree atrioventricular block': 3, 'lower voltage QRS in chest lead': 2})\n",
      "Training data shape: (8512, 5000, 12)\n",
      "Testing data shape: (2128, 5000, 12)\n",
      "Training labels shape: (8512,)\n",
      "Testing labels shape: (2128,)\n"
     ]
    }
   ],
   "execution_count": 6
  },
  {
   "metadata": {},
   "cell_type": "code",
   "outputs": [],
   "execution_count": null,
   "source": "",
   "id": "e18d5f576a208cc7"
  }
 ],
 "metadata": {
  "kernelspec": {
   "display_name": "Python 3",
   "language": "python",
   "name": "python3"
  },
  "language_info": {
   "codemirror_mode": {
    "name": "ipython",
    "version": 2
   },
   "file_extension": ".py",
   "mimetype": "text/x-python",
   "name": "python",
   "nbconvert_exporter": "python",
   "pygments_lexer": "ipython2",
   "version": "2.7.6"
  }
 },
 "nbformat": 4,
 "nbformat_minor": 5
}
